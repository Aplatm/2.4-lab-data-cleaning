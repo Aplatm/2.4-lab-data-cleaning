{
 "cells": [
  {
   "cell_type": "markdown",
   "metadata": {
    "toc": true
   },
   "source": [
    "<h1>Table of Contents<span class=\"tocSkip\"></span></h1>\n",
    "<div class=\"toc\"><ul class=\"toc-item\"><li><span><a href=\"#Data-Cleaning\" data-toc-modified-id=\"Data-Cleaning-1\"><span class=\"toc-item-num\">1&nbsp;&nbsp;</span>Data Cleaning</a></span></li><li><span><a href=\"#Examining-Data-for-Potential-Issues\" data-toc-modified-id=\"Examining-Data-for-Potential-Issues-2\"><span class=\"toc-item-num\">2&nbsp;&nbsp;</span>Examining Data for Potential Issues</a></span></li><li><span><a href=\"#Missing-Values\" data-toc-modified-id=\"Missing-Values-3\"><span class=\"toc-item-num\">3&nbsp;&nbsp;</span>Missing Values</a></span><ul class=\"toc-item\"><li><span><a href=\"#Show-the-number-of-null-values-only-of-the-columns-that-actually-have-null-values\" data-toc-modified-id=\"Show-the-number-of-null-values-only-of-the-columns-that-actually-have-null-values-3.1\"><span class=\"toc-item-num\">3.1&nbsp;&nbsp;</span>Show the number of null values only of the columns that actually have null values</a></span></li><li><span><a href=\"#Remove-the-columns-that-have-more-than-10,000-null-values-in-them\" data-toc-modified-id=\"Remove-the-columns-that-have-more-than-10,000-null-values-in-them-3.2\"><span class=\"toc-item-num\">3.2&nbsp;&nbsp;</span>Remove the columns that have more than 10,000 null values in them</a></span></li><li><span><a href=\"#Create-a-new-dataframe-that-shows-only-the-row-where-displ-is-null.\" data-toc-modified-id=\"Create-a-new-dataframe-that-shows-only-the-row-where-displ-is-null.-3.3\"><span class=\"toc-item-num\">3.3&nbsp;&nbsp;</span>Create a new dataframe that shows only the row where <code>displ</code> is null.</a></span></li><li><span><a href=\"#Fill-nan-values-with-the-most-appropriate-technique\" data-toc-modified-id=\"Fill-nan-values-with-the-most-appropriate-technique-3.4\"><span class=\"toc-item-num\">3.4&nbsp;&nbsp;</span>Fill nan values with the most appropriate technique</a></span></li><li><span><a href=\"#Bonus:\" data-toc-modified-id=\"Bonus:-3.5\"><span class=\"toc-item-num\">3.5&nbsp;&nbsp;</span>Bonus:</a></span></li></ul></li><li><span><a href=\"#Incorrect-Values\" data-toc-modified-id=\"Incorrect-Values-4\"><span class=\"toc-item-num\">4&nbsp;&nbsp;</span>Incorrect Values</a></span><ul class=\"toc-item\"><li><span><a href=\"#Check-similar-rows\" data-toc-modified-id=\"Check-similar-rows-4.1\"><span class=\"toc-item-num\">4.1&nbsp;&nbsp;</span>Check similar rows</a></span></li><li><span><a href=\"#Bonus:\" data-toc-modified-id=\"Bonus:-4.2\"><span class=\"toc-item-num\">4.2&nbsp;&nbsp;</span>Bonus:</a></span></li></ul></li><li><span><a href=\"#Low-Variance-Columns\" data-toc-modified-id=\"Low-Variance-Columns-5\"><span class=\"toc-item-num\">5&nbsp;&nbsp;</span>Low Variance Columns</a></span><ul class=\"toc-item\"><li><span><a href=\"#Use-the-the-drop-method-like-we-did-earlier-in-this-lesson-to-remove-the-non-informative-columns-from-our-data-frame.\" data-toc-modified-id=\"Use-the-the-drop-method-like-we-did-earlier-in-this-lesson-to-remove-the-non-informative-columns-from-our-data-frame.-5.1\"><span class=\"toc-item-num\">5.1&nbsp;&nbsp;</span>Use the the drop method like we did earlier in this lesson to remove the non informative columns from our data frame.</a></span></li></ul></li><li><span><a href=\"#Extreme-Values-and-Outliers\" data-toc-modified-id=\"Extreme-Values-and-Outliers-6\"><span class=\"toc-item-num\">6&nbsp;&nbsp;</span>Extreme Values and Outliers</a></span></li><li><span><a href=\"#Data-Type-Correction\" data-toc-modified-id=\"Data-Type-Correction-7\"><span class=\"toc-item-num\">7&nbsp;&nbsp;</span>Data Type Correction</a></span><ul class=\"toc-item\"><li><span><a href=\"#Check-the-data-type-of-each-column\" data-toc-modified-id=\"Check-the-data-type-of-each-column-7.1\"><span class=\"toc-item-num\">7.1&nbsp;&nbsp;</span>Check the data type of each column</a></span></li><li><span><a href=\"#Cleaning-years\" data-toc-modified-id=\"Cleaning-years-7.2\"><span class=\"toc-item-num\">7.2&nbsp;&nbsp;</span>Cleaning years</a></span></li></ul></li><li><span><a href=\"#Cleaning-Text-and-Removing-Special-Characters\" data-toc-modified-id=\"Cleaning-Text-and-Removing-Special-Characters-8\"><span class=\"toc-item-num\">8&nbsp;&nbsp;</span>Cleaning Text and Removing Special Characters</a></span></li><li><span><a href=\"#Finding-and-Removing-Duplicates\" data-toc-modified-id=\"Finding-and-Removing-Duplicates-9\"><span class=\"toc-item-num\">9&nbsp;&nbsp;</span>Finding and Removing Duplicates</a></span><ul class=\"toc-item\"><li><span><a href=\"#Drop-duplicate-rows-that-are-completely-equal\" data-toc-modified-id=\"Drop-duplicate-rows-that-are-completely-equal-9.1\"><span class=\"toc-item-num\">9.1&nbsp;&nbsp;</span>Drop duplicate rows that are completely equal</a></span></li><li><span><a href=\"#Select-a-subset-of-columns,-remove-all-other-columns,-and-then-use-the-drop_duplicates-method-to-drop-any-duplicate-records-based-on-the-remaining-columns.\" data-toc-modified-id=\"Select-a-subset-of-columns,-remove-all-other-columns,-and-then-use-the-drop_duplicates-method-to-drop-any-duplicate-records-based-on-the-remaining-columns.-9.2\"><span class=\"toc-item-num\">9.2&nbsp;&nbsp;</span>Select a subset of columns, remove all other columns, and then use the drop_duplicates method to drop any duplicate records based on the remaining columns.</a></span></li></ul></li><li><span><a href=\"#Export-clean-dataset\" data-toc-modified-id=\"Export-clean-dataset-10\"><span class=\"toc-item-num\">10&nbsp;&nbsp;</span>Export clean dataset</a></span></li></ul></div>"
   ]
  },
  {
   "cell_type": "markdown",
   "metadata": {},
   "source": [
    "# Data Cleaning\n",
    "\n",
    "\n",
    "Lab Goals\n",
    "\n",
    "+ Examine data for potential issues.\n",
    "+ Identify and fill in missing values.\n",
    "+ Identify and correct incorrect values.\n",
    "+ Remove low variance columns.\n",
    "+ Identify potential outliers.\n",
    "+ Correct incorrect data types.\n",
    "+ Remove special characters and clean categorical variables.\n",
    "+ Identify and remove duplicate records.\n",
    "\n",
    "Introduction\n",
    "\n",
    "When working with data sets, you will find that they often require a bit of cleaning. Whether Pandas originally read the data types incorrectly, records are duplicated, the data contains special characters or missing value, or there are slightly different references to the same entity, every data analyst must know how to clean the data they are working with before analyzing it. In this lesson, you will learn about some of the most common problems that make data messy and methods for correcting those problems and cleaning your data.\n",
    "\n",
    "The data set we are going to be using for this lesson is a messy version of the vehicles data set we worked with in the previous lesson. Let's import this version of our data set so that we can then practice cleaning it up."
   ]
  },
  {
   "cell_type": "code",
   "execution_count": 2,
   "metadata": {},
   "outputs": [],
   "source": [
    "import pandas as pd\n",
    "import numpy as np\n",
    "\n",
    "pd.set_option(\"display.max_columns\", None) # Para que me enseñe todas las columnaas del dataframe\n",
    "\n",
    "\n",
    "import warnings\n",
    "warnings.simplefilter(\"ignore\") # ignorar errores de versiones posteriores , o cambios en python\n",
    "\n",
    "#para pintar\n",
    "import pylab as plt\n",
    "import seaborn as sns\n",
    "\n",
    "# para que salga el grafico\n",
    "%matplotlib inline"
   ]
  },
  {
   "cell_type": "code",
   "execution_count": 3,
   "metadata": {},
   "outputs": [],
   "source": [
    "#Load data from vehicles_messy.csv\n",
    "\n",
    "data = pd.read_csv('../data/vehicles_messy.csv')"
   ]
  },
  {
   "cell_type": "markdown",
   "metadata": {},
   "source": [
    "# Examining Data for Potential Issues\n",
    "\n",
    "One of the first things we want to do is examine the data and look for any **potential issues**. Some of the things we are interested in identifying in the data at this stage include:\n",
    "\n",
    "- Missing values\n",
    "- Special characters\n",
    "- Incorrect values\n",
    "- Extreme values or outliers\n",
    "- Duplicate records\n",
    "- Incorrect data types\n",
    "\n",
    "The presence of these may cause problems when it's time to analyze the data, so we want to make sure we address them beforehand. We can start by visually inspecting the data using the `.head` method, which will show us the first 5 rows of data. "
   ]
  },
  {
   "cell_type": "code",
   "execution_count": 4,
   "metadata": {},
   "outputs": [
    {
     "data": {
      "text/plain": "   barrels08  barrelsA08  charge120  charge240  city08  city08U  cityA08  \\\n0  15.695714         0.0        0.0        0.0      19      0.0        0   \n1  29.964545         0.0        0.0        0.0       9      0.0        0   \n2  12.207778         0.0        0.0        0.0      23      0.0        0   \n3  29.964545         0.0        0.0        0.0      10      0.0        0   \n4  17.347895         0.0        0.0        0.0      17      0.0        0   \n\n   cityA08U  cityCD  cityE  cityUF  co2  co2A  co2TailpipeAGpm  \\\n0       0.0     0.0    0.0     0.0   -1    -1              0.0   \n1       0.0     0.0    0.0     0.0   -1    -1              0.0   \n2       0.0     0.0    0.0     0.0   -1    -1              0.0   \n3       0.0     0.0    0.0     0.0   -1    -1              0.0   \n4       0.0     0.0    0.0     0.0   -1    -1              0.0   \n\n   co2TailpipeGpm  comb08  comb08U  combA08  combA08U  combE  combinedCD  \\\n0      423.190476      21      0.0        0       0.0    0.0         0.0   \n1      807.909091      11      0.0        0       0.0    0.0         0.0   \n2      329.148148      27      0.0        0       0.0    0.0         0.0   \n3      807.909091      11      0.0        0       0.0    0.0         0.0   \n4      467.736842      19      0.0        0       0.0    0.0         0.0   \n\n   combinedUF  cylinders  displ                       drive  engId  \\\n0         0.0        4.0    2.0            Rear-Wheel Drive   9011   \n1         0.0       12.0    4.9            Rear-Wheel Drive  22020   \n2         0.0        4.0    2.2           Front-Wheel Drive   2100   \n3         0.0        8.0    5.2            Rear-Wheel Drive   2850   \n4         0.0        4.0    2.2  4-Wheel or All-Wheel Drive  66031   \n\n     eng_dscr  feScore  fuelCost08  fuelCostA08 fuelType         fuelType1  \\\n0       (FFS)       -1        1600            0  Regular  Regular Gasoline   \n1   (GUZZLER)       -1        3050            0  Regular  Regular Gasoline   \n2       (FFS)       -1        1250            0  Regular  Regular Gasoline   \n3         NaN       -1        3050            0  Regular  Regular Gasoline   \n4  (FFS,TRBO)       -1        2150            0  Premium  Premium Gasoline   \n\n   ghgScore  ghgScoreA  highway08  highway08U  highwayA08  highwayA08U  \\\n0        -1         -1         25         0.0           0          0.0   \n1        -1         -1         14         0.0           0          0.0   \n2        -1         -1         33         0.0           0          0.0   \n3        -1         -1         12         0.0           0          0.0   \n4        -1         -1         23         0.0           0          0.0   \n\n   highwayCD  highwayE  highwayUF  hlv  hpv     id  lv2  lv4        make  \\\n0        0.0       0.0        0.0    0    0      1    0    0  Alfa Romeo   \n1        0.0       0.0        0.0    0    0     10    0    0     Ferrari   \n2        0.0       0.0        0.0   19   77    100    0    0       Dodge   \n3        0.0       0.0        0.0    0    0   1000    0    0       Dodge   \n4        0.0       0.0        0.0    0    0  10000    0   14      Subaru   \n\n                 model mpgData  phevBlended  pv2  pv4  range  rangeCity  \\\n0   Spider Veloce 2000       Y        False    0    0      0        0.0   \n1           Testarossa       N        False    0    0      0        0.0   \n2              Charger       Y        False    0    0      0        0.0   \n3  B150/B250 Wagon 2WD       N        False    0    0      0        0.0   \n4     Legacy AWD Turbo       N        False    0   90      0        0.0   \n\n   rangeCityA  rangeHwy  rangeHwyA            trany    UCity  UCityA  \\\n0         0.0       0.0        0.0     Manual 5-spd  23.3333     0.0   \n1         0.0       0.0        0.0     Manual 5-spd  11.0000     0.0   \n2         0.0       0.0        0.0     Manual 5-spd  29.0000     0.0   \n3         0.0       0.0        0.0  Automatic 3-spd  12.2222     0.0   \n4         0.0       0.0        0.0     Manual 5-spd  21.0000     0.0   \n\n   UHighway  UHighwayA           VClass  year  youSaveSpend guzzler  \\\n0   35.0000        0.0      Two Seaters  1985         -1250     NaN   \n1   19.0000        0.0      Two Seaters  1985         -8500       T   \n2   47.0000        0.0  Subcompact Cars  1985           500     NaN   \n3   16.6667        0.0             Vans  1985         -8500     NaN   \n4   32.0000        0.0     Compact Cars  1993         -4000     NaN   \n\n  trans_dscr tCharger sCharger atvType fuelType2 rangeA evMotor mfrCode  \\\n0        NaN      NaN      NaN     NaN       NaN    NaN     NaN     NaN   \n1        NaN      NaN      NaN     NaN       NaN    NaN     NaN     NaN   \n2        SIL      NaN      NaN     NaN       NaN    NaN     NaN     NaN   \n3        NaN      NaN      NaN     NaN       NaN    NaN     NaN     NaN   \n4        NaN        T      NaN     NaN       NaN    NaN     NaN     NaN   \n\n  c240Dscr  charge240b c240bDscr                     createdOn  \\\n0      NaN         0.0       NaN  Tue Jan 01 00:00:00 EST 2013   \n1      NaN         0.0       NaN  Tue Jan 01 00:00:00 EST 2013   \n2      NaN         0.0       NaN  Tue Jan 01 00:00:00 EST 2013   \n3      NaN         0.0       NaN  Tue Jan 01 00:00:00 EST 2013   \n4      NaN         0.0       NaN  Tue Jan 01 00:00:00 EST 2013   \n\n                     modifiedOn startStop  phevCity  phevHwy  phevComb  \n0  Tue Jan 01 00:00:00 EST 2013       NaN         0        0         0  \n1  Tue Jan 01 00:00:00 EST 2013       NaN         0        0         0  \n2  Tue Jan 01 00:00:00 EST 2013       NaN         0        0         0  \n3  Tue Jan 01 00:00:00 EST 2013       NaN         0        0         0  \n4  Tue Jan 01 00:00:00 EST 2013       NaN         0        0         0  ",
      "text/html": "<div>\n<style scoped>\n    .dataframe tbody tr th:only-of-type {\n        vertical-align: middle;\n    }\n\n    .dataframe tbody tr th {\n        vertical-align: top;\n    }\n\n    .dataframe thead th {\n        text-align: right;\n    }\n</style>\n<table border=\"1\" class=\"dataframe\">\n  <thead>\n    <tr style=\"text-align: right;\">\n      <th></th>\n      <th>barrels08</th>\n      <th>barrelsA08</th>\n      <th>charge120</th>\n      <th>charge240</th>\n      <th>city08</th>\n      <th>city08U</th>\n      <th>cityA08</th>\n      <th>cityA08U</th>\n      <th>cityCD</th>\n      <th>cityE</th>\n      <th>cityUF</th>\n      <th>co2</th>\n      <th>co2A</th>\n      <th>co2TailpipeAGpm</th>\n      <th>co2TailpipeGpm</th>\n      <th>comb08</th>\n      <th>comb08U</th>\n      <th>combA08</th>\n      <th>combA08U</th>\n      <th>combE</th>\n      <th>combinedCD</th>\n      <th>combinedUF</th>\n      <th>cylinders</th>\n      <th>displ</th>\n      <th>drive</th>\n      <th>engId</th>\n      <th>eng_dscr</th>\n      <th>feScore</th>\n      <th>fuelCost08</th>\n      <th>fuelCostA08</th>\n      <th>fuelType</th>\n      <th>fuelType1</th>\n      <th>ghgScore</th>\n      <th>ghgScoreA</th>\n      <th>highway08</th>\n      <th>highway08U</th>\n      <th>highwayA08</th>\n      <th>highwayA08U</th>\n      <th>highwayCD</th>\n      <th>highwayE</th>\n      <th>highwayUF</th>\n      <th>hlv</th>\n      <th>hpv</th>\n      <th>id</th>\n      <th>lv2</th>\n      <th>lv4</th>\n      <th>make</th>\n      <th>model</th>\n      <th>mpgData</th>\n      <th>phevBlended</th>\n      <th>pv2</th>\n      <th>pv4</th>\n      <th>range</th>\n      <th>rangeCity</th>\n      <th>rangeCityA</th>\n      <th>rangeHwy</th>\n      <th>rangeHwyA</th>\n      <th>trany</th>\n      <th>UCity</th>\n      <th>UCityA</th>\n      <th>UHighway</th>\n      <th>UHighwayA</th>\n      <th>VClass</th>\n      <th>year</th>\n      <th>youSaveSpend</th>\n      <th>guzzler</th>\n      <th>trans_dscr</th>\n      <th>tCharger</th>\n      <th>sCharger</th>\n      <th>atvType</th>\n      <th>fuelType2</th>\n      <th>rangeA</th>\n      <th>evMotor</th>\n      <th>mfrCode</th>\n      <th>c240Dscr</th>\n      <th>charge240b</th>\n      <th>c240bDscr</th>\n      <th>createdOn</th>\n      <th>modifiedOn</th>\n      <th>startStop</th>\n      <th>phevCity</th>\n      <th>phevHwy</th>\n      <th>phevComb</th>\n    </tr>\n  </thead>\n  <tbody>\n    <tr>\n      <th>0</th>\n      <td>15.695714</td>\n      <td>0.0</td>\n      <td>0.0</td>\n      <td>0.0</td>\n      <td>19</td>\n      <td>0.0</td>\n      <td>0</td>\n      <td>0.0</td>\n      <td>0.0</td>\n      <td>0.0</td>\n      <td>0.0</td>\n      <td>-1</td>\n      <td>-1</td>\n      <td>0.0</td>\n      <td>423.190476</td>\n      <td>21</td>\n      <td>0.0</td>\n      <td>0</td>\n      <td>0.0</td>\n      <td>0.0</td>\n      <td>0.0</td>\n      <td>0.0</td>\n      <td>4.0</td>\n      <td>2.0</td>\n      <td>Rear-Wheel Drive</td>\n      <td>9011</td>\n      <td>(FFS)</td>\n      <td>-1</td>\n      <td>1600</td>\n      <td>0</td>\n      <td>Regular</td>\n      <td>Regular Gasoline</td>\n      <td>-1</td>\n      <td>-1</td>\n      <td>25</td>\n      <td>0.0</td>\n      <td>0</td>\n      <td>0.0</td>\n      <td>0.0</td>\n      <td>0.0</td>\n      <td>0.0</td>\n      <td>0</td>\n      <td>0</td>\n      <td>1</td>\n      <td>0</td>\n      <td>0</td>\n      <td>Alfa Romeo</td>\n      <td>Spider Veloce 2000</td>\n      <td>Y</td>\n      <td>False</td>\n      <td>0</td>\n      <td>0</td>\n      <td>0</td>\n      <td>0.0</td>\n      <td>0.0</td>\n      <td>0.0</td>\n      <td>0.0</td>\n      <td>Manual 5-spd</td>\n      <td>23.3333</td>\n      <td>0.0</td>\n      <td>35.0000</td>\n      <td>0.0</td>\n      <td>Two Seaters</td>\n      <td>1985</td>\n      <td>-1250</td>\n      <td>NaN</td>\n      <td>NaN</td>\n      <td>NaN</td>\n      <td>NaN</td>\n      <td>NaN</td>\n      <td>NaN</td>\n      <td>NaN</td>\n      <td>NaN</td>\n      <td>NaN</td>\n      <td>NaN</td>\n      <td>0.0</td>\n      <td>NaN</td>\n      <td>Tue Jan 01 00:00:00 EST 2013</td>\n      <td>Tue Jan 01 00:00:00 EST 2013</td>\n      <td>NaN</td>\n      <td>0</td>\n      <td>0</td>\n      <td>0</td>\n    </tr>\n    <tr>\n      <th>1</th>\n      <td>29.964545</td>\n      <td>0.0</td>\n      <td>0.0</td>\n      <td>0.0</td>\n      <td>9</td>\n      <td>0.0</td>\n      <td>0</td>\n      <td>0.0</td>\n      <td>0.0</td>\n      <td>0.0</td>\n      <td>0.0</td>\n      <td>-1</td>\n      <td>-1</td>\n      <td>0.0</td>\n      <td>807.909091</td>\n      <td>11</td>\n      <td>0.0</td>\n      <td>0</td>\n      <td>0.0</td>\n      <td>0.0</td>\n      <td>0.0</td>\n      <td>0.0</td>\n      <td>12.0</td>\n      <td>4.9</td>\n      <td>Rear-Wheel Drive</td>\n      <td>22020</td>\n      <td>(GUZZLER)</td>\n      <td>-1</td>\n      <td>3050</td>\n      <td>0</td>\n      <td>Regular</td>\n      <td>Regular Gasoline</td>\n      <td>-1</td>\n      <td>-1</td>\n      <td>14</td>\n      <td>0.0</td>\n      <td>0</td>\n      <td>0.0</td>\n      <td>0.0</td>\n      <td>0.0</td>\n      <td>0.0</td>\n      <td>0</td>\n      <td>0</td>\n      <td>10</td>\n      <td>0</td>\n      <td>0</td>\n      <td>Ferrari</td>\n      <td>Testarossa</td>\n      <td>N</td>\n      <td>False</td>\n      <td>0</td>\n      <td>0</td>\n      <td>0</td>\n      <td>0.0</td>\n      <td>0.0</td>\n      <td>0.0</td>\n      <td>0.0</td>\n      <td>Manual 5-spd</td>\n      <td>11.0000</td>\n      <td>0.0</td>\n      <td>19.0000</td>\n      <td>0.0</td>\n      <td>Two Seaters</td>\n      <td>1985</td>\n      <td>-8500</td>\n      <td>T</td>\n      <td>NaN</td>\n      <td>NaN</td>\n      <td>NaN</td>\n      <td>NaN</td>\n      <td>NaN</td>\n      <td>NaN</td>\n      <td>NaN</td>\n      <td>NaN</td>\n      <td>NaN</td>\n      <td>0.0</td>\n      <td>NaN</td>\n      <td>Tue Jan 01 00:00:00 EST 2013</td>\n      <td>Tue Jan 01 00:00:00 EST 2013</td>\n      <td>NaN</td>\n      <td>0</td>\n      <td>0</td>\n      <td>0</td>\n    </tr>\n    <tr>\n      <th>2</th>\n      <td>12.207778</td>\n      <td>0.0</td>\n      <td>0.0</td>\n      <td>0.0</td>\n      <td>23</td>\n      <td>0.0</td>\n      <td>0</td>\n      <td>0.0</td>\n      <td>0.0</td>\n      <td>0.0</td>\n      <td>0.0</td>\n      <td>-1</td>\n      <td>-1</td>\n      <td>0.0</td>\n      <td>329.148148</td>\n      <td>27</td>\n      <td>0.0</td>\n      <td>0</td>\n      <td>0.0</td>\n      <td>0.0</td>\n      <td>0.0</td>\n      <td>0.0</td>\n      <td>4.0</td>\n      <td>2.2</td>\n      <td>Front-Wheel Drive</td>\n      <td>2100</td>\n      <td>(FFS)</td>\n      <td>-1</td>\n      <td>1250</td>\n      <td>0</td>\n      <td>Regular</td>\n      <td>Regular Gasoline</td>\n      <td>-1</td>\n      <td>-1</td>\n      <td>33</td>\n      <td>0.0</td>\n      <td>0</td>\n      <td>0.0</td>\n      <td>0.0</td>\n      <td>0.0</td>\n      <td>0.0</td>\n      <td>19</td>\n      <td>77</td>\n      <td>100</td>\n      <td>0</td>\n      <td>0</td>\n      <td>Dodge</td>\n      <td>Charger</td>\n      <td>Y</td>\n      <td>False</td>\n      <td>0</td>\n      <td>0</td>\n      <td>0</td>\n      <td>0.0</td>\n      <td>0.0</td>\n      <td>0.0</td>\n      <td>0.0</td>\n      <td>Manual 5-spd</td>\n      <td>29.0000</td>\n      <td>0.0</td>\n      <td>47.0000</td>\n      <td>0.0</td>\n      <td>Subcompact Cars</td>\n      <td>1985</td>\n      <td>500</td>\n      <td>NaN</td>\n      <td>SIL</td>\n      <td>NaN</td>\n      <td>NaN</td>\n      <td>NaN</td>\n      <td>NaN</td>\n      <td>NaN</td>\n      <td>NaN</td>\n      <td>NaN</td>\n      <td>NaN</td>\n      <td>0.0</td>\n      <td>NaN</td>\n      <td>Tue Jan 01 00:00:00 EST 2013</td>\n      <td>Tue Jan 01 00:00:00 EST 2013</td>\n      <td>NaN</td>\n      <td>0</td>\n      <td>0</td>\n      <td>0</td>\n    </tr>\n    <tr>\n      <th>3</th>\n      <td>29.964545</td>\n      <td>0.0</td>\n      <td>0.0</td>\n      <td>0.0</td>\n      <td>10</td>\n      <td>0.0</td>\n      <td>0</td>\n      <td>0.0</td>\n      <td>0.0</td>\n      <td>0.0</td>\n      <td>0.0</td>\n      <td>-1</td>\n      <td>-1</td>\n      <td>0.0</td>\n      <td>807.909091</td>\n      <td>11</td>\n      <td>0.0</td>\n      <td>0</td>\n      <td>0.0</td>\n      <td>0.0</td>\n      <td>0.0</td>\n      <td>0.0</td>\n      <td>8.0</td>\n      <td>5.2</td>\n      <td>Rear-Wheel Drive</td>\n      <td>2850</td>\n      <td>NaN</td>\n      <td>-1</td>\n      <td>3050</td>\n      <td>0</td>\n      <td>Regular</td>\n      <td>Regular Gasoline</td>\n      <td>-1</td>\n      <td>-1</td>\n      <td>12</td>\n      <td>0.0</td>\n      <td>0</td>\n      <td>0.0</td>\n      <td>0.0</td>\n      <td>0.0</td>\n      <td>0.0</td>\n      <td>0</td>\n      <td>0</td>\n      <td>1000</td>\n      <td>0</td>\n      <td>0</td>\n      <td>Dodge</td>\n      <td>B150/B250 Wagon 2WD</td>\n      <td>N</td>\n      <td>False</td>\n      <td>0</td>\n      <td>0</td>\n      <td>0</td>\n      <td>0.0</td>\n      <td>0.0</td>\n      <td>0.0</td>\n      <td>0.0</td>\n      <td>Automatic 3-spd</td>\n      <td>12.2222</td>\n      <td>0.0</td>\n      <td>16.6667</td>\n      <td>0.0</td>\n      <td>Vans</td>\n      <td>1985</td>\n      <td>-8500</td>\n      <td>NaN</td>\n      <td>NaN</td>\n      <td>NaN</td>\n      <td>NaN</td>\n      <td>NaN</td>\n      <td>NaN</td>\n      <td>NaN</td>\n      <td>NaN</td>\n      <td>NaN</td>\n      <td>NaN</td>\n      <td>0.0</td>\n      <td>NaN</td>\n      <td>Tue Jan 01 00:00:00 EST 2013</td>\n      <td>Tue Jan 01 00:00:00 EST 2013</td>\n      <td>NaN</td>\n      <td>0</td>\n      <td>0</td>\n      <td>0</td>\n    </tr>\n    <tr>\n      <th>4</th>\n      <td>17.347895</td>\n      <td>0.0</td>\n      <td>0.0</td>\n      <td>0.0</td>\n      <td>17</td>\n      <td>0.0</td>\n      <td>0</td>\n      <td>0.0</td>\n      <td>0.0</td>\n      <td>0.0</td>\n      <td>0.0</td>\n      <td>-1</td>\n      <td>-1</td>\n      <td>0.0</td>\n      <td>467.736842</td>\n      <td>19</td>\n      <td>0.0</td>\n      <td>0</td>\n      <td>0.0</td>\n      <td>0.0</td>\n      <td>0.0</td>\n      <td>0.0</td>\n      <td>4.0</td>\n      <td>2.2</td>\n      <td>4-Wheel or All-Wheel Drive</td>\n      <td>66031</td>\n      <td>(FFS,TRBO)</td>\n      <td>-1</td>\n      <td>2150</td>\n      <td>0</td>\n      <td>Premium</td>\n      <td>Premium Gasoline</td>\n      <td>-1</td>\n      <td>-1</td>\n      <td>23</td>\n      <td>0.0</td>\n      <td>0</td>\n      <td>0.0</td>\n      <td>0.0</td>\n      <td>0.0</td>\n      <td>0.0</td>\n      <td>0</td>\n      <td>0</td>\n      <td>10000</td>\n      <td>0</td>\n      <td>14</td>\n      <td>Subaru</td>\n      <td>Legacy AWD Turbo</td>\n      <td>N</td>\n      <td>False</td>\n      <td>0</td>\n      <td>90</td>\n      <td>0</td>\n      <td>0.0</td>\n      <td>0.0</td>\n      <td>0.0</td>\n      <td>0.0</td>\n      <td>Manual 5-spd</td>\n      <td>21.0000</td>\n      <td>0.0</td>\n      <td>32.0000</td>\n      <td>0.0</td>\n      <td>Compact Cars</td>\n      <td>1993</td>\n      <td>-4000</td>\n      <td>NaN</td>\n      <td>NaN</td>\n      <td>T</td>\n      <td>NaN</td>\n      <td>NaN</td>\n      <td>NaN</td>\n      <td>NaN</td>\n      <td>NaN</td>\n      <td>NaN</td>\n      <td>NaN</td>\n      <td>0.0</td>\n      <td>NaN</td>\n      <td>Tue Jan 01 00:00:00 EST 2013</td>\n      <td>Tue Jan 01 00:00:00 EST 2013</td>\n      <td>NaN</td>\n      <td>0</td>\n      <td>0</td>\n      <td>0</td>\n    </tr>\n  </tbody>\n</table>\n</div>"
     },
     "execution_count": 4,
     "metadata": {},
     "output_type": "execute_result"
    }
   ],
   "source": [
    "data.head()"
   ]
  },
  {
   "cell_type": "markdown",
   "metadata": {},
   "source": [
    "But how big actually is our dataframe??? Check it with `.shape` method"
   ]
  },
  {
   "cell_type": "code",
   "execution_count": 5,
   "metadata": {},
   "outputs": [
    {
     "data": {
      "text/plain": "(37843, 83)"
     },
     "execution_count": 5,
     "metadata": {},
     "output_type": "execute_result"
    }
   ],
   "source": [
    "data.shape"
   ]
  },
  {
   "cell_type": "markdown",
   "metadata": {},
   "source": [
    "Let's dive a little more in the content of our data set. Is there any method that shows us the **column names**, its **data types** and number of **non-null values**?"
   ]
  },
  {
   "cell_type": "code",
   "execution_count": 6,
   "metadata": {},
   "outputs": [
    {
     "name": "stdout",
     "output_type": "stream",
     "text": [
      "<class 'pandas.core.frame.DataFrame'>\n",
      "RangeIndex: 37843 entries, 0 to 37842\n",
      "Data columns (total 83 columns):\n",
      " #   Column           Non-Null Count  Dtype  \n",
      "---  ------           --------------  -----  \n",
      " 0   barrels08        37843 non-null  float64\n",
      " 1   barrelsA08       37843 non-null  float64\n",
      " 2   charge120        37843 non-null  float64\n",
      " 3   charge240        37843 non-null  float64\n",
      " 4   city08           37843 non-null  int64  \n",
      " 5   city08U          37843 non-null  float64\n",
      " 6   cityA08          37843 non-null  int64  \n",
      " 7   cityA08U         37843 non-null  float64\n",
      " 8   cityCD           37843 non-null  float64\n",
      " 9   cityE            37843 non-null  float64\n",
      " 10  cityUF           37843 non-null  float64\n",
      " 11  co2              37843 non-null  int64  \n",
      " 12  co2A             37843 non-null  int64  \n",
      " 13  co2TailpipeAGpm  37843 non-null  float64\n",
      " 14  co2TailpipeGpm   37843 non-null  float64\n",
      " 15  comb08           37843 non-null  int64  \n",
      " 16  comb08U          37843 non-null  float64\n",
      " 17  combA08          37843 non-null  int64  \n",
      " 18  combA08U         37843 non-null  float64\n",
      " 19  combE            37843 non-null  float64\n",
      " 20  combinedCD       37843 non-null  float64\n",
      " 21  combinedUF       37843 non-null  float64\n",
      " 22  cylinders        37720 non-null  float64\n",
      " 23  displ            37723 non-null  float64\n",
      " 24  drive            36654 non-null  object \n",
      " 25  engId            37843 non-null  int64  \n",
      " 26  eng_dscr         22440 non-null  object \n",
      " 27  feScore          37843 non-null  int64  \n",
      " 28  fuelCost08       37843 non-null  int64  \n",
      " 29  fuelCostA08      37843 non-null  int64  \n",
      " 30  fuelType         37843 non-null  object \n",
      " 31  fuelType1        37843 non-null  object \n",
      " 32  ghgScore         37843 non-null  int64  \n",
      " 33  ghgScoreA        37843 non-null  int64  \n",
      " 34  highway08        37843 non-null  int64  \n",
      " 35  highway08U       37843 non-null  float64\n",
      " 36  highwayA08       37843 non-null  int64  \n",
      " 37  highwayA08U      37843 non-null  float64\n",
      " 38  highwayCD        37843 non-null  float64\n",
      " 39  highwayE         37843 non-null  float64\n",
      " 40  highwayUF        37843 non-null  float64\n",
      " 41  hlv              37843 non-null  int64  \n",
      " 42  hpv              37843 non-null  int64  \n",
      " 43  id               37843 non-null  int64  \n",
      " 44  lv2              37843 non-null  int64  \n",
      " 45  lv4              37843 non-null  int64  \n",
      " 46  make             37843 non-null  object \n",
      " 47  model            37843 non-null  object \n",
      " 48  mpgData          37843 non-null  object \n",
      " 49  phevBlended      37843 non-null  bool   \n",
      " 50  pv2              37843 non-null  int64  \n",
      " 51  pv4              37843 non-null  int64  \n",
      " 52  range            37843 non-null  int64  \n",
      " 53  rangeCity        37843 non-null  float64\n",
      " 54  rangeCityA       37843 non-null  float64\n",
      " 55  rangeHwy         37843 non-null  float64\n",
      " 56  rangeHwyA        37843 non-null  float64\n",
      " 57  trany            37832 non-null  object \n",
      " 58  UCity            37843 non-null  float64\n",
      " 59  UCityA           37843 non-null  float64\n",
      " 60  UHighway         37843 non-null  float64\n",
      " 61  UHighwayA        37843 non-null  float64\n",
      " 62  VClass           37843 non-null  object \n",
      " 63  year             37843 non-null  int64  \n",
      " 64  youSaveSpend     37843 non-null  int64  \n",
      " 65  guzzler          2281 non-null   object \n",
      " 66  trans_dscr       15047 non-null  object \n",
      " 67  tCharger         5186 non-null   object \n",
      " 68  sCharger         666 non-null    object \n",
      " 69  atvType          3072 non-null   object \n",
      " 70  fuelType2        1408 non-null   object \n",
      " 71  rangeA           1403 non-null   object \n",
      " 72  evMotor          562 non-null    object \n",
      " 73  mfrCode          7025 non-null   object \n",
      " 74  c240Dscr         37 non-null     object \n",
      " 75  charge240b       37843 non-null  float64\n",
      " 76  c240bDscr        36 non-null     object \n",
      " 77  createdOn        37843 non-null  object \n",
      " 78  modifiedOn       37843 non-null  object \n",
      " 79  startStop        6138 non-null   object \n",
      " 80  phevCity         37843 non-null  int64  \n",
      " 81  phevHwy          37843 non-null  int64  \n",
      " 82  phevComb         37843 non-null  int64  \n",
      "dtypes: bool(1), float64(32), int64(27), object(23)\n",
      "memory usage: 59.8 MB\n"
     ]
    }
   ],
   "source": [
    "data.info(memory_usage='deep')"
   ]
  },
  {
   "cell_type": "markdown",
   "metadata": {},
   "source": [
    "# Missing Values\n",
    "\n",
    "From this initial view, we can see that our data set contains some columns that have missing values in them and others that seem to have a lot of zero values. \n",
    "\n",
    "Let's see how prevalent missing values are in our data. We can use the Pandas `.isnull()` method to check whether the value in each field is missing (*null*) and return either True or False for each field. \n",
    "\n",
    "We can use the `.sum()` method to total up the number of True values by column, and then we can add a condition using square brackets that will filter the data and show us only columns where the number of null values were greater than zero. "
   ]
  },
  {
   "cell_type": "markdown",
   "metadata": {},
   "source": [
    "## Show the number of null values only of the columns that actually have null values"
   ]
  },
  {
   "cell_type": "code",
   "execution_count": 7,
   "outputs": [
    {
     "data": {
      "text/plain": "c240bDscr     37807\nc240Dscr      37806\nevMotor       37281\nsCharger      37177\nrangeA        36440\nfuelType2     36435\nguzzler       35562\natvType       34771\ntCharger      32657\nstartStop     31705\nmfrCode       30818\ntrans_dscr    22796\neng_dscr      15403\ndrive          1189\ncylinders       123\ndispl           120\ntrany            11\ndtype: int64"
     },
     "execution_count": 7,
     "metadata": {},
     "output_type": "execute_result"
    }
   ],
   "source": [
    "null = data.isnull().sum()\n",
    "null[null>0].sort_values(ascending=False)\n"
   ],
   "metadata": {
    "collapsed": false,
    "pycharm": {
     "name": "#%%\n"
    }
   }
  },
  {
   "cell_type": "code",
   "execution_count": 8,
   "metadata": {},
   "outputs": [
    {
     "data": {
      "text/plain": "<Figure size 720x432 with 1 Axes>",
      "image/png": "[encoded data removed]"
     },
     "metadata": {
      "needs_background": "light"
     },
     "output_type": "display_data"
    }
   ],
   "source": [
    "plt.figure(figsize=(10, 6))\n",
    "\n",
    "sns.heatmap(data.isna(),  # mapa de calor\n",
    "            yticklabels=False,\n",
    "            cmap='viridis',\n",
    "            cbar=False);"
   ]
  },
  {
   "cell_type": "markdown",
   "metadata": {},
   "source": [
    "We can see that some columns have relatively few null values while others have tens of thousands of nulls. For fields that have a lot of null values, you will often have to make a judgement call. If you don't think the information is going to be very useful to your analysis, then you would remove those columns from your data frame. "
   ]
  },
  {
   "cell_type": "markdown",
   "metadata": {},
   "source": [
    "## Remove the columns that have more than 10,000 null values in them"
   ]
  },
  {
   "cell_type": "markdown",
   "metadata": {},
   "source": [
    "In Pandas, we can do that using the drop method. For our purposes, let's remove the columns that have more than 10,000 null values in them. We will add these column names to a list, and then we will pass those columns to the drop method and indicate that we want columns (not rows) dropped by setting the axis parameter to 1. "
   ]
  },
  {
   "cell_type": "code",
   "execution_count": 9,
   "outputs": [
    {
     "data": {
      "text/plain": "Index(['eng_dscr', 'guzzler', 'trans_dscr', 'tCharger', 'sCharger', 'atvType',\n       'fuelType2', 'rangeA', 'evMotor', 'mfrCode', 'c240Dscr', 'c240bDscr',\n       'startStop'],\n      dtype='object')"
     },
     "execution_count": 9,
     "metadata": {},
     "output_type": "execute_result"
    }
   ],
   "source": [
    "null[null>10000].index"
   ],
   "metadata": {
    "collapsed": false,
    "pycharm": {
     "name": "#%%\n"
    }
   }
  },
  {
   "cell_type": "code",
   "execution_count": 10,
   "metadata": {},
   "outputs": [],
   "source": [
    "null_values = list(null[null>10000].index)\n",
    "\n",
    "data.drop(null_values, axis=1, inplace=True)\n"
   ]
  },
  {
   "cell_type": "code",
   "execution_count": 11,
   "metadata": {},
   "outputs": [
    {
     "data": {
      "text/plain": "   barrels08  barrelsA08  charge120  charge240  city08  city08U  cityA08  \\\n0  15.695714         0.0        0.0        0.0      19      0.0        0   \n1  29.964545         0.0        0.0        0.0       9      0.0        0   \n2  12.207778         0.0        0.0        0.0      23      0.0        0   \n3  29.964545         0.0        0.0        0.0      10      0.0        0   \n4  17.347895         0.0        0.0        0.0      17      0.0        0   \n\n   cityA08U  cityCD  cityE  cityUF  co2  co2A  co2TailpipeAGpm  \\\n0       0.0     0.0    0.0     0.0   -1    -1              0.0   \n1       0.0     0.0    0.0     0.0   -1    -1              0.0   \n2       0.0     0.0    0.0     0.0   -1    -1              0.0   \n3       0.0     0.0    0.0     0.0   -1    -1              0.0   \n4       0.0     0.0    0.0     0.0   -1    -1              0.0   \n\n   co2TailpipeGpm  comb08  comb08U  combA08  combA08U  combE  combinedCD  \\\n0      423.190476      21      0.0        0       0.0    0.0         0.0   \n1      807.909091      11      0.0        0       0.0    0.0         0.0   \n2      329.148148      27      0.0        0       0.0    0.0         0.0   \n3      807.909091      11      0.0        0       0.0    0.0         0.0   \n4      467.736842      19      0.0        0       0.0    0.0         0.0   \n\n   combinedUF  cylinders  displ                       drive  engId  feScore  \\\n0         0.0        4.0    2.0            Rear-Wheel Drive   9011       -1   \n1         0.0       12.0    4.9            Rear-Wheel Drive  22020       -1   \n2         0.0        4.0    2.2           Front-Wheel Drive   2100       -1   \n3         0.0        8.0    5.2            Rear-Wheel Drive   2850       -1   \n4         0.0        4.0    2.2  4-Wheel or All-Wheel Drive  66031       -1   \n\n   fuelCost08  fuelCostA08 fuelType         fuelType1  ghgScore  ghgScoreA  \\\n0        1600            0  Regular  Regular Gasoline        -1         -1   \n1        3050            0  Regular  Regular Gasoline        -1         -1   \n2        1250            0  Regular  Regular Gasoline        -1         -1   \n3        3050            0  Regular  Regular Gasoline        -1         -1   \n4        2150            0  Premium  Premium Gasoline        -1         -1   \n\n   highway08  highway08U  highwayA08  highwayA08U  highwayCD  highwayE  \\\n0         25         0.0           0          0.0        0.0       0.0   \n1         14         0.0           0          0.0        0.0       0.0   \n2         33         0.0           0          0.0        0.0       0.0   \n3         12         0.0           0          0.0        0.0       0.0   \n4         23         0.0           0          0.0        0.0       0.0   \n\n   highwayUF  hlv  hpv     id  lv2  lv4        make                model  \\\n0        0.0    0    0      1    0    0  Alfa Romeo   Spider Veloce 2000   \n1        0.0    0    0     10    0    0     Ferrari           Testarossa   \n2        0.0   19   77    100    0    0       Dodge              Charger   \n3        0.0    0    0   1000    0    0       Dodge  B150/B250 Wagon 2WD   \n4        0.0    0    0  10000    0   14      Subaru     Legacy AWD Turbo   \n\n  mpgData  phevBlended  pv2  pv4  range  rangeCity  rangeCityA  rangeHwy  \\\n0       Y        False    0    0      0        0.0         0.0       0.0   \n1       N        False    0    0      0        0.0         0.0       0.0   \n2       Y        False    0    0      0        0.0         0.0       0.0   \n3       N        False    0    0      0        0.0         0.0       0.0   \n4       N        False    0   90      0        0.0         0.0       0.0   \n\n   rangeHwyA            trany    UCity  UCityA  UHighway  UHighwayA  \\\n0        0.0     Manual 5-spd  23.3333     0.0   35.0000        0.0   \n1        0.0     Manual 5-spd  11.0000     0.0   19.0000        0.0   \n2        0.0     Manual 5-spd  29.0000     0.0   47.0000        0.0   \n3        0.0  Automatic 3-spd  12.2222     0.0   16.6667        0.0   \n4        0.0     Manual 5-spd  21.0000     0.0   32.0000        0.0   \n\n            VClass  year  youSaveSpend  charge240b  \\\n0      Two Seaters  1985         -1250         0.0   \n1      Two Seaters  1985         -8500         0.0   \n2  Subcompact Cars  1985           500         0.0   \n3             Vans  1985         -8500         0.0   \n4     Compact Cars  1993         -4000         0.0   \n\n                      createdOn                    modifiedOn  phevCity  \\\n0  Tue Jan 01 00:00:00 EST 2013  Tue Jan 01 00:00:00 EST 2013         0   \n1  Tue Jan 01 00:00:00 EST 2013  Tue Jan 01 00:00:00 EST 2013         0   \n2  Tue Jan 01 00:00:00 EST 2013  Tue Jan 01 00:00:00 EST 2013         0   \n3  Tue Jan 01 00:00:00 EST 2013  Tue Jan 01 00:00:00 EST 2013         0   \n4  Tue Jan 01 00:00:00 EST 2013  Tue Jan 01 00:00:00 EST 2013         0   \n\n   phevHwy  phevComb  \n0        0         0  \n1        0         0  \n2        0         0  \n3        0         0  \n4        0         0  ",
      "text/html": "<div>\n<style scoped>\n    .dataframe tbody tr th:only-of-type {\n        vertical-align: middle;\n    }\n\n    .dataframe tbody tr th {\n        vertical-align: top;\n    }\n\n    .dataframe thead th {\n        text-align: right;\n    }\n</style>\n<table border=\"1\" class=\"dataframe\">\n  <thead>\n    <tr style=\"text-align: right;\">\n      <th></th>\n      <th>barrels08</th>\n      <th>barrelsA08</th>\n      <th>charge120</th>\n      <th>charge240</th>\n      <th>city08</th>\n      <th>city08U</th>\n      <th>cityA08</th>\n      <th>cityA08U</th>\n      <th>cityCD</th>\n      <th>cityE</th>\n      <th>cityUF</th>\n      <th>co2</th>\n      <th>co2A</th>\n      <th>co2TailpipeAGpm</th>\n      <th>co2TailpipeGpm</th>\n      <th>comb08</th>\n      <th>comb08U</th>\n      <th>combA08</th>\n      <th>combA08U</th>\n      <th>combE</th>\n      <th>combinedCD</th>\n      <th>combinedUF</th>\n      <th>cylinders</th>\n      <th>displ</th>\n      <th>drive</th>\n      <th>engId</th>\n      <th>feScore</th>\n      <th>fuelCost08</th>\n      <th>fuelCostA08</th>\n      <th>fuelType</th>\n      <th>fuelType1</th>\n      <th>ghgScore</th>\n      <th>ghgScoreA</th>\n      <th>highway08</th>\n      <th>highway08U</th>\n      <th>highwayA08</th>\n      <th>highwayA08U</th>\n      <th>highwayCD</th>\n      <th>highwayE</th>\n      <th>highwayUF</th>\n      <th>hlv</th>\n      <th>hpv</th>\n      <th>id</th>\n      <th>lv2</th>\n      <th>lv4</th>\n      <th>make</th>\n      <th>model</th>\n      <th>mpgData</th>\n      <th>phevBlended</th>\n      <th>pv2</th>\n      <th>pv4</th>\n      <th>range</th>\n      <th>rangeCity</th>\n      <th>rangeCityA</th>\n      <th>rangeHwy</th>\n      <th>rangeHwyA</th>\n      <th>trany</th>\n      <th>UCity</th>\n      <th>UCityA</th>\n      <th>UHighway</th>\n      <th>UHighwayA</th>\n      <th>VClass</th>\n      <th>year</th>\n      <th>youSaveSpend</th>\n      <th>charge240b</th>\n      <th>createdOn</th>\n      <th>modifiedOn</th>\n      <th>phevCity</th>\n      <th>phevHwy</th>\n      <th>phevComb</th>\n    </tr>\n  </thead>\n  <tbody>\n    <tr>\n      <th>0</th>\n      <td>15.695714</td>\n      <td>0.0</td>\n      <td>0.0</td>\n      <td>0.0</td>\n      <td>19</td>\n      <td>0.0</td>\n      <td>0</td>\n      <td>0.0</td>\n      <td>0.0</td>\n      <td>0.0</td>\n      <td>0.0</td>\n      <td>-1</td>\n      <td>-1</td>\n      <td>0.0</td>\n      <td>423.190476</td>\n      <td>21</td>\n      <td>0.0</td>\n      <td>0</td>\n      <td>0.0</td>\n      <td>0.0</td>\n      <td>0.0</td>\n      <td>0.0</td>\n      <td>4.0</td>\n      <td>2.0</td>\n      <td>Rear-Wheel Drive</td>\n      <td>9011</td>\n      <td>-1</td>\n      <td>1600</td>\n      <td>0</td>\n      <td>Regular</td>\n      <td>Regular Gasoline</td>\n      <td>-1</td>\n      <td>-1</td>\n      <td>25</td>\n      <td>0.0</td>\n      <td>0</td>\n      <td>0.0</td>\n      <td>0.0</td>\n      <td>0.0</td>\n      <td>0.0</td>\n      <td>0</td>\n      <td>0</td>\n      <td>1</td>\n      <td>0</td>\n      <td>0</td>\n      <td>Alfa Romeo</td>\n      <td>Spider Veloce 2000</td>\n      <td>Y</td>\n      <td>False</td>\n      <td>0</td>\n      <td>0</td>\n      <td>0</td>\n      <td>0.0</td>\n      <td>0.0</td>\n      <td>0.0</td>\n      <td>0.0</td>\n      <td>Manual 5-spd</td>\n      <td>23.3333</td>\n      <td>0.0</td>\n      <td>35.0000</td>\n      <td>0.0</td>\n      <td>Two Seaters</td>\n      <td>1985</td>\n      <td>-1250</td>\n      <td>0.0</td>\n      <td>Tue Jan 01 00:00:00 EST 2013</td>\n      <td>Tue Jan 01 00:00:00 EST 2013</td>\n      <td>0</td>\n      <td>0</td>\n      <td>0</td>\n    </tr>\n    <tr>\n      <th>1</th>\n      <td>29.964545</td>\n      <td>0.0</td>\n      <td>0.0</td>\n      <td>0.0</td>\n      <td>9</td>\n      <td>0.0</td>\n      <td>0</td>\n      <td>0.0</td>\n      <td>0.0</td>\n      <td>0.0</td>\n      <td>0.0</td>\n      <td>-1</td>\n      <td>-1</td>\n      <td>0.0</td>\n      <td>807.909091</td>\n      <td>11</td>\n      <td>0.0</td>\n      <td>0</td>\n      <td>0.0</td>\n      <td>0.0</td>\n      <td>0.0</td>\n      <td>0.0</td>\n      <td>12.0</td>\n      <td>4.9</td>\n      <td>Rear-Wheel Drive</td>\n      <td>22020</td>\n      <td>-1</td>\n      <td>3050</td>\n      <td>0</td>\n      <td>Regular</td>\n      <td>Regular Gasoline</td>\n      <td>-1</td>\n      <td>-1</td>\n      <td>14</td>\n      <td>0.0</td>\n      <td>0</td>\n      <td>0.0</td>\n      <td>0.0</td>\n      <td>0.0</td>\n      <td>0.0</td>\n      <td>0</td>\n      <td>0</td>\n      <td>10</td>\n      <td>0</td>\n      <td>0</td>\n      <td>Ferrari</td>\n      <td>Testarossa</td>\n      <td>N</td>\n      <td>False</td>\n      <td>0</td>\n      <td>0</td>\n      <td>0</td>\n      <td>0.0</td>\n      <td>0.0</td>\n      <td>0.0</td>\n      <td>0.0</td>\n      <td>Manual 5-spd</td>\n      <td>11.0000</td>\n      <td>0.0</td>\n      <td>19.0000</td>\n      <td>0.0</td>\n      <td>Two Seaters</td>\n      <td>1985</td>\n      <td>-8500</td>\n      <td>0.0</td>\n      <td>Tue Jan 01 00:00:00 EST 2013</td>\n      <td>Tue Jan 01 00:00:00 EST 2013</td>\n      <td>0</td>\n      <td>0</td>\n      <td>0</td>\n    </tr>\n    <tr>\n      <th>2</th>\n      <td>12.207778</td>\n      <td>0.0</td>\n      <td>0.0</td>\n      <td>0.0</td>\n      <td>23</td>\n      <td>0.0</td>\n      <td>0</td>\n      <td>0.0</td>\n      <td>0.0</td>\n      <td>0.0</td>\n      <td>0.0</td>\n      <td>-1</td>\n      <td>-1</td>\n      <td>0.0</td>\n      <td>329.148148</td>\n      <td>27</td>\n      <td>0.0</td>\n      <td>0</td>\n      <td>0.0</td>\n      <td>0.0</td>\n      <td>0.0</td>\n      <td>0.0</td>\n      <td>4.0</td>\n      <td>2.2</td>\n      <td>Front-Wheel Drive</td>\n      <td>2100</td>\n      <td>-1</td>\n      <td>1250</td>\n      <td>0</td>\n      <td>Regular</td>\n      <td>Regular Gasoline</td>\n      <td>-1</td>\n      <td>-1</td>\n      <td>33</td>\n      <td>0.0</td>\n      <td>0</td>\n      <td>0.0</td>\n      <td>0.0</td>\n      <td>0.0</td>\n      <td>0.0</td>\n      <td>19</td>\n      <td>77</td>\n      <td>100</td>\n      <td>0</td>\n      <td>0</td>\n      <td>Dodge</td>\n      <td>Charger</td>\n      <td>Y</td>\n      <td>False</td>\n      <td>0</td>\n      <td>0</td>\n      <td>0</td>\n      <td>0.0</td>\n      <td>0.0</td>\n      <td>0.0</td>\n      <td>0.0</td>\n      <td>Manual 5-spd</td>\n      <td>29.0000</td>\n      <td>0.0</td>\n      <td>47.0000</td>\n      <td>0.0</td>\n      <td>Subcompact Cars</td>\n      <td>1985</td>\n      <td>500</td>\n      <td>0.0</td>\n      <td>Tue Jan 01 00:00:00 EST 2013</td>\n      <td>Tue Jan 01 00:00:00 EST 2013</td>\n      <td>0</td>\n      <td>0</td>\n      <td>0</td>\n    </tr>\n    <tr>\n      <th>3</th>\n      <td>29.964545</td>\n      <td>0.0</td>\n      <td>0.0</td>\n      <td>0.0</td>\n      <td>10</td>\n      <td>0.0</td>\n      <td>0</td>\n      <td>0.0</td>\n      <td>0.0</td>\n      <td>0.0</td>\n      <td>0.0</td>\n      <td>-1</td>\n      <td>-1</td>\n      <td>0.0</td>\n      <td>807.909091</td>\n      <td>11</td>\n      <td>0.0</td>\n      <td>0</td>\n      <td>0.0</td>\n      <td>0.0</td>\n      <td>0.0</td>\n      <td>0.0</td>\n      <td>8.0</td>\n      <td>5.2</td>\n      <td>Rear-Wheel Drive</td>\n      <td>2850</td>\n      <td>-1</td>\n      <td>3050</td>\n      <td>0</td>\n      <td>Regular</td>\n      <td>Regular Gasoline</td>\n      <td>-1</td>\n      <td>-1</td>\n      <td>12</td>\n      <td>0.0</td>\n      <td>0</td>\n      <td>0.0</td>\n      <td>0.0</td>\n      <td>0.0</td>\n      <td>0.0</td>\n      <td>0</td>\n      <td>0</td>\n      <td>1000</td>\n      <td>0</td>\n      <td>0</td>\n      <td>Dodge</td>\n      <td>B150/B250 Wagon 2WD</td>\n      <td>N</td>\n      <td>False</td>\n      <td>0</td>\n      <td>0</td>\n      <td>0</td>\n      <td>0.0</td>\n      <td>0.0</td>\n      <td>0.0</td>\n      <td>0.0</td>\n      <td>Automatic 3-spd</td>\n      <td>12.2222</td>\n      <td>0.0</td>\n      <td>16.6667</td>\n      <td>0.0</td>\n      <td>Vans</td>\n      <td>1985</td>\n      <td>-8500</td>\n      <td>0.0</td>\n      <td>Tue Jan 01 00:00:00 EST 2013</td>\n      <td>Tue Jan 01 00:00:00 EST 2013</td>\n      <td>0</td>\n      <td>0</td>\n      <td>0</td>\n    </tr>\n    <tr>\n      <th>4</th>\n      <td>17.347895</td>\n      <td>0.0</td>\n      <td>0.0</td>\n      <td>0.0</td>\n      <td>17</td>\n      <td>0.0</td>\n      <td>0</td>\n      <td>0.0</td>\n      <td>0.0</td>\n      <td>0.0</td>\n      <td>0.0</td>\n      <td>-1</td>\n      <td>-1</td>\n      <td>0.0</td>\n      <td>467.736842</td>\n      <td>19</td>\n      <td>0.0</td>\n      <td>0</td>\n      <td>0.0</td>\n      <td>0.0</td>\n      <td>0.0</td>\n      <td>0.0</td>\n      <td>4.0</td>\n      <td>2.2</td>\n      <td>4-Wheel or All-Wheel Drive</td>\n      <td>66031</td>\n      <td>-1</td>\n      <td>2150</td>\n      <td>0</td>\n      <td>Premium</td>\n      <td>Premium Gasoline</td>\n      <td>-1</td>\n      <td>-1</td>\n      <td>23</td>\n      <td>0.0</td>\n      <td>0</td>\n      <td>0.0</td>\n      <td>0.0</td>\n      <td>0.0</td>\n      <td>0.0</td>\n      <td>0</td>\n      <td>0</td>\n      <td>10000</td>\n      <td>0</td>\n      <td>14</td>\n      <td>Subaru</td>\n      <td>Legacy AWD Turbo</td>\n      <td>N</td>\n      <td>False</td>\n      <td>0</td>\n      <td>90</td>\n      <td>0</td>\n      <td>0.0</td>\n      <td>0.0</td>\n      <td>0.0</td>\n      <td>0.0</td>\n      <td>Manual 5-spd</td>\n      <td>21.0000</td>\n      <td>0.0</td>\n      <td>32.0000</td>\n      <td>0.0</td>\n      <td>Compact Cars</td>\n      <td>1993</td>\n      <td>-4000</td>\n      <td>0.0</td>\n      <td>Tue Jan 01 00:00:00 EST 2013</td>\n      <td>Tue Jan 01 00:00:00 EST 2013</td>\n      <td>0</td>\n      <td>0</td>\n      <td>0</td>\n    </tr>\n  </tbody>\n</table>\n</div>"
     },
     "execution_count": 11,
     "metadata": {},
     "output_type": "execute_result"
    }
   ],
   "source": [
    "data.head()"
   ]
  },
  {
   "cell_type": "markdown",
   "metadata": {},
   "source": [
    "This leaves us with just a handful of remaining columns that have null values. Of the columns that remain, it looks like the cylinders column and the displ column have a similar number of nulls. Perhaps they are missing for similar reasons. We can investigate this by subsetting the data set and looking at just the records where displ is null and just the columns we think will be informative in allowing us to determine a reason. "
   ]
  },
  {
   "cell_type": "markdown",
   "metadata": {},
   "source": [
    "## Create a new dataframe that shows only the row where `displ` is null. \n",
    "Keep only the columns you think are useful"
   ]
  },
  {
   "cell_type": "code",
   "execution_count": 49,
   "metadata": {},
   "outputs": [
    {
     "data": {
      "text/plain": "        make    fuelType1  cylinders  year  displ\n7138  Nissan  Electricity        NaN  2000    NaN\n7139  Toyota  Electricity        NaN  2000    NaN\n8143  Toyota  Electricity        NaN  2001    NaN\n8144    Ford  Electricity        NaN  2001    NaN\n8146    Ford  Electricity        NaN  2001    NaN",
      "text/html": "<div>\n<style scoped>\n    .dataframe tbody tr th:only-of-type {\n        vertical-align: middle;\n    }\n\n    .dataframe tbody tr th {\n        vertical-align: top;\n    }\n\n    .dataframe thead th {\n        text-align: right;\n    }\n</style>\n<table border=\"1\" class=\"dataframe\">\n  <thead>\n    <tr style=\"text-align: right;\">\n      <th></th>\n      <th>make</th>\n      <th>fuelType1</th>\n      <th>cylinders</th>\n      <th>year</th>\n      <th>displ</th>\n    </tr>\n  </thead>\n  <tbody>\n    <tr>\n      <th>7138</th>\n      <td>Nissan</td>\n      <td>Electricity</td>\n      <td>NaN</td>\n      <td>2000</td>\n      <td>NaN</td>\n    </tr>\n    <tr>\n      <th>7139</th>\n      <td>Toyota</td>\n      <td>Electricity</td>\n      <td>NaN</td>\n      <td>2000</td>\n      <td>NaN</td>\n    </tr>\n    <tr>\n      <th>8143</th>\n      <td>Toyota</td>\n      <td>Electricity</td>\n      <td>NaN</td>\n      <td>2001</td>\n      <td>NaN</td>\n    </tr>\n    <tr>\n      <th>8144</th>\n      <td>Ford</td>\n      <td>Electricity</td>\n      <td>NaN</td>\n      <td>2001</td>\n      <td>NaN</td>\n    </tr>\n    <tr>\n      <th>8146</th>\n      <td>Ford</td>\n      <td>Electricity</td>\n      <td>NaN</td>\n      <td>2001</td>\n      <td>NaN</td>\n    </tr>\n  </tbody>\n</table>\n</div>"
     },
     "execution_count": 49,
     "metadata": {},
     "output_type": "execute_result"
    }
   ],
   "source": [
    "data_null = data[data['displ'].isnull()]\n",
    "columns_to_keep = ['make', 'fuelType1', 'cylinders', 'year','displ']\n",
    "data_null = data_null[columns_to_keep]\n",
    "data_null.head()"
   ]
  },
  {
   "cell_type": "markdown",
   "metadata": {},
   "source": [
    "## Fill nan values with the most appropriate technique \n",
    "*HINT: Electric cars do not have cylinders and can therefore not have any displacement*"
   ]
  },
  {
   "cell_type": "code",
   "execution_count": 50,
   "metadata": {},
   "outputs": [
    {
     "data": {
      "text/plain": "        make    fuelType1  cylinders  year  displ\n7138  Nissan  Electricity        0.0  2000    0.0\n7139  Toyota  Electricity        0.0  2000    0.0\n8143  Toyota  Electricity        0.0  2001    0.0\n8144    Ford  Electricity        0.0  2001    0.0\n8146    Ford  Electricity        0.0  2001    0.0",
      "text/html": "<div>\n<style scoped>\n    .dataframe tbody tr th:only-of-type {\n        vertical-align: middle;\n    }\n\n    .dataframe tbody tr th {\n        vertical-align: top;\n    }\n\n    .dataframe thead th {\n        text-align: right;\n    }\n</style>\n<table border=\"1\" class=\"dataframe\">\n  <thead>\n    <tr style=\"text-align: right;\">\n      <th></th>\n      <th>make</th>\n      <th>fuelType1</th>\n      <th>cylinders</th>\n      <th>year</th>\n      <th>displ</th>\n    </tr>\n  </thead>\n  <tbody>\n    <tr>\n      <th>7138</th>\n      <td>Nissan</td>\n      <td>Electricity</td>\n      <td>0.0</td>\n      <td>2000</td>\n      <td>0.0</td>\n    </tr>\n    <tr>\n      <th>7139</th>\n      <td>Toyota</td>\n      <td>Electricity</td>\n      <td>0.0</td>\n      <td>2000</td>\n      <td>0.0</td>\n    </tr>\n    <tr>\n      <th>8143</th>\n      <td>Toyota</td>\n      <td>Electricity</td>\n      <td>0.0</td>\n      <td>2001</td>\n      <td>0.0</td>\n    </tr>\n    <tr>\n      <th>8144</th>\n      <td>Ford</td>\n      <td>Electricity</td>\n      <td>0.0</td>\n      <td>2001</td>\n      <td>0.0</td>\n    </tr>\n    <tr>\n      <th>8146</th>\n      <td>Ford</td>\n      <td>Electricity</td>\n      <td>0.0</td>\n      <td>2001</td>\n      <td>0.0</td>\n    </tr>\n  </tbody>\n</table>\n</div>"
     },
     "execution_count": 50,
     "metadata": {},
     "output_type": "execute_result"
    }
   ],
   "source": [
    "data_null['cylinders'] = data_null['cylinders'].fillna(0)\n",
    "data_null['displ'] = data_null['displ'].fillna(0)\n",
    "data_null.head()"
   ]
  },
  {
   "cell_type": "markdown",
   "metadata": {},
   "source": [
    "## Bonus: \n",
    "Now that we have filled in those null values, there are only two columns in the data set that still have null values: trany and drive. Use what you have learned in this section to investigate and potentially fill in the remaining null values."
   ]
  },
  {
   "cell_type": "code",
   "execution_count": 68,
   "metadata": {},
   "outputs": [
    {
     "name": "stdout",
     "output_type": "stream",
     "text": [
      "<class 'pandas.core.frame.DataFrame'>\n",
      "RangeIndex: 37843 entries, 0 to 37842\n",
      "Data columns (total 70 columns):\n",
      " #   Column           Non-Null Count  Dtype  \n",
      "---  ------           --------------  -----  \n",
      " 0   barrels08        37843 non-null  float64\n",
      " 1   barrelsA08       37843 non-null  float64\n",
      " 2   charge120        37843 non-null  float64\n",
      " 3   charge240        37843 non-null  float64\n",
      " 4   city08           37843 non-null  int64  \n",
      " 5   city08U          37843 non-null  float64\n",
      " 6   cityA08          37843 non-null  int64  \n",
      " 7   cityA08U         37843 non-null  float64\n",
      " 8   cityCD           37843 non-null  float64\n",
      " 9   cityE            37843 non-null  float64\n",
      " 10  cityUF           37843 non-null  float64\n",
      " 11  co2              37843 non-null  int64  \n",
      " 12  co2A             37843 non-null  int64  \n",
      " 13  co2TailpipeAGpm  37843 non-null  float64\n",
      " 14  co2TailpipeGpm   37843 non-null  float64\n",
      " 15  comb08           37843 non-null  int64  \n",
      " 16  comb08U          37843 non-null  float64\n",
      " 17  combA08          37843 non-null  int64  \n",
      " 18  combA08U         37843 non-null  float64\n",
      " 19  combE            37843 non-null  float64\n",
      " 20  combinedCD       37843 non-null  float64\n",
      " 21  combinedUF       37843 non-null  float64\n",
      " 22  cylinders        37720 non-null  float64\n",
      " 23  displ            37723 non-null  float64\n",
      " 24  drive            37843 non-null  object \n",
      " 25  engId            37843 non-null  int64  \n",
      " 26  feScore          37843 non-null  int64  \n",
      " 27  fuelCost08       37843 non-null  int64  \n",
      " 28  fuelCostA08      37843 non-null  int64  \n",
      " 29  fuelType         37843 non-null  object \n",
      " 30  fuelType1        37843 non-null  object \n",
      " 31  ghgScore         37843 non-null  int64  \n",
      " 32  ghgScoreA        37843 non-null  int64  \n",
      " 33  highway08        37843 non-null  int64  \n",
      " 34  highway08U       37843 non-null  float64\n",
      " 35  highwayA08       37843 non-null  int64  \n",
      " 36  highwayA08U      37843 non-null  float64\n",
      " 37  highwayCD        37843 non-null  float64\n",
      " 38  highwayE         37843 non-null  float64\n",
      " 39  highwayUF        37843 non-null  float64\n",
      " 40  hlv              37843 non-null  int64  \n",
      " 41  hpv              37843 non-null  int64  \n",
      " 42  id               37843 non-null  int64  \n",
      " 43  lv2              37843 non-null  int64  \n",
      " 44  lv4              37843 non-null  int64  \n",
      " 45  make             37843 non-null  object \n",
      " 46  model            37843 non-null  object \n",
      " 47  mpgData          37843 non-null  object \n",
      " 48  phevBlended      37843 non-null  bool   \n",
      " 49  pv2              37843 non-null  int64  \n",
      " 50  pv4              37843 non-null  int64  \n",
      " 51  range            37843 non-null  int64  \n",
      " 52  rangeCity        37843 non-null  float64\n",
      " 53  rangeCityA       37843 non-null  float64\n",
      " 54  rangeHwy         37843 non-null  float64\n",
      " 55  rangeHwyA        37843 non-null  float64\n",
      " 56  trany            37843 non-null  object \n",
      " 57  UCity            37843 non-null  float64\n",
      " 58  UCityA           37843 non-null  float64\n",
      " 59  UHighway         37843 non-null  float64\n",
      " 60  UHighwayA        37843 non-null  float64\n",
      " 61  VClass           37843 non-null  object \n",
      " 62  year             37843 non-null  int64  \n",
      " 63  youSaveSpend     37843 non-null  int64  \n",
      " 64  charge240b       37843 non-null  float64\n",
      " 65  createdOn        37843 non-null  object \n",
      " 66  modifiedOn       37843 non-null  object \n",
      " 67  phevCity         37843 non-null  int64  \n",
      " 68  phevHwy          37843 non-null  int64  \n",
      " 69  phevComb         37843 non-null  int64  \n",
      "dtypes: bool(1), float64(32), int64(27), object(10)\n",
      "memory usage: 20.0+ MB\n"
     ]
    }
   ],
   "source": [
    "data['trany'] = data['trany'].fillna('Unknown')\n",
    "data['drive'] = data['drive'].fillna('Unknown')\n",
    "data.info()\n"
   ]
  },
  {
   "cell_type": "markdown",
   "source": [],
   "metadata": {
    "collapsed": false
   }
  },
  {
   "cell_type": "markdown",
   "metadata": {},
   "source": [
    "# Incorrect Values\n",
    "\n",
    "In addition to null values, we also want to try to identify any values that seem incorrect. For example, in the previous section, we learned that a vehicle without cylinders should not have displacement and vice versa. Let's check to see if there are any cases that violate these rules."
   ]
  },
  {
   "cell_type": "code",
   "execution_count": 76,
   "metadata": {},
   "outputs": [
    {
     "data": {
      "text/plain": "Empty DataFrame\nColumns: [barrels08, barrelsA08, charge120, charge240, city08, city08U, cityA08, cityA08U, cityCD, cityE, cityUF, co2, co2A, co2TailpipeAGpm, co2TailpipeGpm, comb08, comb08U, combA08, combA08U, combE, combinedCD, combinedUF, cylinders, displ, drive, engId, feScore, fuelCost08, fuelCostA08, fuelType, fuelType1, ghgScore, ghgScoreA, highway08, highway08U, highwayA08, highwayA08U, highwayCD, highwayE, highwayUF, hlv, hpv, id, lv2, lv4, make, model, mpgData, phevBlended, pv2, pv4, range, rangeCity, rangeCityA, rangeHwy, rangeHwyA, trany, UCity, UCityA, UHighway, UHighwayA, VClass, year, youSaveSpend, charge240b, createdOn, modifiedOn, phevCity, phevHwy, phevComb]\nIndex: []",
      "text/html": "<div>\n<style scoped>\n    .dataframe tbody tr th:only-of-type {\n        vertical-align: middle;\n    }\n\n    .dataframe tbody tr th {\n        vertical-align: top;\n    }\n\n    .dataframe thead th {\n        text-align: right;\n    }\n</style>\n<table border=\"1\" class=\"dataframe\">\n  <thead>\n    <tr style=\"text-align: right;\">\n      <th></th>\n      <th>barrels08</th>\n      <th>barrelsA08</th>\n      <th>charge120</th>\n      <th>charge240</th>\n      <th>city08</th>\n      <th>city08U</th>\n      <th>cityA08</th>\n      <th>cityA08U</th>\n      <th>cityCD</th>\n      <th>cityE</th>\n      <th>cityUF</th>\n      <th>co2</th>\n      <th>co2A</th>\n      <th>co2TailpipeAGpm</th>\n      <th>co2TailpipeGpm</th>\n      <th>comb08</th>\n      <th>comb08U</th>\n      <th>combA08</th>\n      <th>combA08U</th>\n      <th>combE</th>\n      <th>combinedCD</th>\n      <th>combinedUF</th>\n      <th>cylinders</th>\n      <th>displ</th>\n      <th>drive</th>\n      <th>engId</th>\n      <th>feScore</th>\n      <th>fuelCost08</th>\n      <th>fuelCostA08</th>\n      <th>fuelType</th>\n      <th>fuelType1</th>\n      <th>ghgScore</th>\n      <th>ghgScoreA</th>\n      <th>highway08</th>\n      <th>highway08U</th>\n      <th>highwayA08</th>\n      <th>highwayA08U</th>\n      <th>highwayCD</th>\n      <th>highwayE</th>\n      <th>highwayUF</th>\n      <th>hlv</th>\n      <th>hpv</th>\n      <th>id</th>\n      <th>lv2</th>\n      <th>lv4</th>\n      <th>make</th>\n      <th>model</th>\n      <th>mpgData</th>\n      <th>phevBlended</th>\n      <th>pv2</th>\n      <th>pv4</th>\n      <th>range</th>\n      <th>rangeCity</th>\n      <th>rangeCityA</th>\n      <th>rangeHwy</th>\n      <th>rangeHwyA</th>\n      <th>trany</th>\n      <th>UCity</th>\n      <th>UCityA</th>\n      <th>UHighway</th>\n      <th>UHighwayA</th>\n      <th>VClass</th>\n      <th>year</th>\n      <th>youSaveSpend</th>\n      <th>charge240b</th>\n      <th>createdOn</th>\n      <th>modifiedOn</th>\n      <th>phevCity</th>\n      <th>phevHwy</th>\n      <th>phevComb</th>\n    </tr>\n  </thead>\n  <tbody>\n  </tbody>\n</table>\n</div>"
     },
     "execution_count": 76,
     "metadata": {},
     "output_type": "execute_result"
    }
   ],
   "source": [
    "data[(data['cylinders'] == 0) & (data['displ'] != 0)]\n",
    "#No hay casos que no cumplan la regla."
   ]
  },
  {
   "cell_type": "markdown",
   "metadata": {},
   "source": [
    "Is there any row that seems to have strange values?"
   ]
  },
  {
   "cell_type": "code",
   "execution_count": 16,
   "metadata": {},
   "outputs": [],
   "source": [
    "#No."
   ]
  },
  {
   "cell_type": "markdown",
   "metadata": {},
   "source": [
    "Here we have identified a vehicle with a regular gasoline engine that reportedly does not have any cylinders but does have a value for displacement. "
   ]
  },
  {
   "cell_type": "markdown",
   "metadata": {},
   "source": [
    "The way we would correct this would be to either perform some domain research or ask a domain expert to find out how many actual cylinders this vehicle had. Alternatively, you can also try to look at similar vehicles in the data set and determine the most likely value for this field."
   ]
  },
  {
   "cell_type": "markdown",
   "metadata": {},
   "source": [
    "## Check similar rows"
   ]
  },
  {
   "cell_type": "code",
   "execution_count": 17,
   "metadata": {},
   "outputs": [],
   "source": [
    "#your code here\n"
   ]
  },
  {
   "cell_type": "markdown",
   "metadata": {},
   "source": [
    "Suppose that using one of the aforementioned methods, we found out that this vehicle actually has a 4 cylinder engine. Update that specific value in the data frame. "
   ]
  },
  {
   "cell_type": "code",
   "execution_count": 18,
   "metadata": {},
   "outputs": [],
   "source": [
    "#your code"
   ]
  },
  {
   "cell_type": "markdown",
   "metadata": {},
   "source": [
    "## Bonus: \n",
    " Try to find other values that might be incorrect in the data set based on what you know about automobiles and correct them."
   ]
  },
  {
   "cell_type": "code",
   "execution_count": 19,
   "metadata": {},
   "outputs": [],
   "source": [
    "#your code"
   ]
  },
  {
   "cell_type": "markdown",
   "metadata": {},
   "source": [
    "# Low Variance Columns\n",
    "\n",
    "When analyzing data, we want the fields we are working with to be informative, and we will want to strip away any columns that don't have a lot of value to us. One easy way to do this is to identify columns that have low variance, where the majority of the values in the column are the same. Since there is not a lot of variability in these columns, they have the potential to not be as informative as columns that have a variety of different values in them.\n",
    "\n",
    "Let's try to identify columns where at least 90% of the values are the same so that we can remove them from our data set. To do this, we are going to create an empty list called low_variance that will eventually contain the names of columns that fit our criteria.\n",
    "\n",
    "We will then write a for loop that will take the minimum and the 90th percentile value for all the numeric columns in our data set (identified via the _get_numeric_data method). If the 90th percentile and the minimum are equal to each other, that means that at least 90% of the values in that column are the same and we will append that column name to our low_variance list. "
   ]
  },
  {
   "cell_type": "code",
   "execution_count": 1,
   "metadata": {},
   "outputs": [],
   "source": [
    "#low_variance = []\n",
    "#for col in data._get_numeric_data().columns:\n",
    "       # if data[col].quantile(0.9) == data[col].quantile(0.1):\n",
    "            #low_variance.append(col)\n",
    "#low_variance"
   ]
  },
  {
   "cell_type": "markdown",
   "metadata": {},
   "source": [
    "This returned 34 columns that we could potentially eliminate due to not having high enough variability to be informative. Of course, before we do this, we should check the values that do exist in these fields to confirm that they are not very informative. Once they have been checked, we can use the the drop method like we did earlier in this lesson to remove those columns from our data frame.\n",
    "\n"
   ]
  },
  {
   "cell_type": "markdown",
   "metadata": {},
   "source": [
    "## Use the the drop method like we did earlier in this lesson to remove the non informative columns from our data frame."
   ]
  },
  {
   "cell_type": "code",
   "execution_count": 21,
   "metadata": {},
   "outputs": [],
   "source": [
    "#your code\n"
   ]
  },
  {
   "cell_type": "markdown",
   "metadata": {},
   "source": [
    "# Extreme Values and Outliers\n",
    "\n",
    "Now that we have removed low variance columns, we should look for outliers, or extreme values, in the columns that remain. These outliers can influence our aggregations when we are analyzing data later, so we want to make sure we address them during our data cleaning stage.\n",
    "\n",
    "A common method for identifying outliers is one that leverages the interquartile range (IQR). Once the IQR is calculated, it is multiplied by a constant (typically 1.5) and lower and upper bounds are established at:\n",
    "\n",
    "    25th Percentile - (IQR x 1.5)\n",
    "    75th Percentile + (IQR x 1.5)\n",
    "\n",
    "Any values outside this range are potential outliers and should be investigated.\n",
    "\n",
    "Let's look at how we would do this for our data set using Python. We will use the Pandas describe function to easily calculate the 25th and 75th percentiles for every column and transpose the results so that we can easily reference the values in calculating the interquartile ranges.\n",
    "\n"
   ]
  },
  {
   "cell_type": "code",
   "execution_count": 22,
   "metadata": {},
   "outputs": [
    {
     "data": {
      "text/plain": "                   count          mean           std       min         25%  \\\nbarrels08        37843.0     17.532506      4.575950      0.06    14.33087   \nbarrelsA08       37843.0      0.216169      1.141527      0.00     0.00000   \ncharge120        37843.0      0.000000      0.000000      0.00     0.00000   \ncharge240        37843.0      0.023531      0.427647      0.00     0.00000   \ncity08           37843.0     17.941389      6.660360      6.00    15.00000   \ncity08U          37843.0      4.042737      9.645820      0.00     0.00000   \ncityA08          37843.0      0.520149      3.837874      0.00     0.00000   \ncityA08U         37843.0      0.327163      3.542596      0.00     0.00000   \ncityCD           37843.0      0.000406      0.039918      0.00     0.00000   \ncityE            37843.0      0.184790      2.904558      0.00     0.00000   \ncityUF           37843.0      0.000706      0.019458      0.00     0.00000   \nco2              37843.0     61.503713    153.387715     -1.00    -1.00000   \nco2A             37843.0      5.349919     55.539497     -1.00    -1.00000   \nco2TailpipeAGpm  37843.0     17.771433     94.129283      0.00     0.00000   \nco2TailpipeGpm   37843.0    473.179736    122.188847      0.00   388.00000   \ncomb08           37843.0     20.195809      6.623444      7.00    17.00000   \ncomb08U          37843.0      4.549751     10.389994      0.00     0.00000   \ncombA08          37843.0      0.581191      3.966255      0.00     0.00000   \ncombA08U         37843.0      0.359027      3.589260      0.00     0.00000   \ncombE            37843.0      0.190575      2.979567      0.00     0.00000   \ncombinedCD       37843.0      0.000335      0.035284      0.00     0.00000   \ncombinedUF       37843.0      0.000691      0.019049      0.00     0.00000   \ncylinders        37720.0      5.737990      1.751795      2.00     4.00000   \ndispl            37723.0      3.318180      1.361399      0.00     2.20000   \nengId            37843.0   8860.308961  17829.683477      0.00     0.00000   \nfeScore          37843.0     -0.035145      2.379584     -1.00    -1.00000   \nfuelCost08       37843.0   1882.060090    510.280408    550.00  1500.00000   \nfuelCostA08      37843.0     79.070105    417.668580      0.00     0.00000   \nghgScore         37843.0     -0.037206      2.374338     -1.00    -1.00000   \nghgScoreA        37843.0     -0.929630      0.627565     -1.00    -1.00000   \nhighway08        37843.0     24.104881      6.963192      9.00    20.00000   \nhighway08U       37843.0      5.438467     11.936327      0.00     0.00000   \nhighwayA08       37843.0      0.686891      4.308934      0.00     0.00000   \nhighwayA08U      37843.0      0.418698      3.808877      0.00     0.00000   \nhighwayCD        37843.0      0.000233      0.029564      0.00     0.00000   \nhighwayE         37843.0      0.198247      3.091862      0.00     0.00000   \nhighwayUF        37843.0      0.000673      0.018583      0.00     0.00000   \nhlv              37843.0      2.026214      5.947989      0.00     0.00000   \nhpv              37843.0     10.424332     28.148770      0.00     0.00000   \nid               37843.0  19019.286235  11034.784855      1.00  9461.50000   \nlv2              37843.0      1.849219      4.429983      0.00     0.00000   \nlv4              37843.0      6.165658      9.743297      0.00     0.00000   \npv2              37843.0     13.696113     31.269930      0.00     0.00000   \npv4              37843.0     33.769125     45.914462      0.00     0.00000   \nrange            37843.0      0.392675      8.251191      0.00     0.00000   \nrangeCity        37843.0      0.352618      8.049082      0.00     0.00000   \nrangeCityA       37843.0      0.036800      1.158270      0.00     0.00000   \nrangeHwy         37843.0      0.343399      8.171939      0.00     0.00000   \nrangeHwyA        37843.0      0.033475      1.032642      0.00     0.00000   \nUCity            37843.0     22.587229      9.350163      0.00    18.00000   \nUCityA           37843.0      0.652380      5.284547      0.00     0.00000   \nUHighway         37843.0     33.619221     10.048326      0.00    27.10000   \nUHighwayA        37843.0      0.933845      6.059456      0.00     0.00000   \nyear             37843.0   2000.064398     10.390588   1984.00  1990.00000   \nyouSaveSpend     37843.0  -2658.999022   2553.098329 -22250.00 -4250.00000   \ncharge240b       37843.0      0.004360      0.142776      0.00     0.00000   \nphevCity         37843.0      0.069313      1.966806      0.00     0.00000   \nphevHwy          37843.0      0.068203      1.871986      0.00     0.00000   \nphevComb         37843.0      0.068573      1.913647      0.00     0.00000   \n\n                          50%           75%           max           IQR  \nbarrels08           17.347895     20.600625     47.087143      6.269755  \nbarrelsA08           0.000000      0.000000     18.311667      0.000000  \ncharge120            0.000000      0.000000      0.000000      0.000000  \ncharge240            0.000000      0.000000     12.000000      0.000000  \ncity08              17.000000     20.000000    138.000000      5.000000  \ncity08U              0.000000      0.000000    138.304000      0.000000  \ncityA08              0.000000      0.000000    127.000000      0.000000  \ncityA08U             0.000000      0.000000    127.093000      0.000000  \ncityCD               0.000000      0.000000      5.350000      0.000000  \ncityE                0.000000      0.000000    122.000000      0.000000  \ncityUF               0.000000      0.000000      0.849000      0.000000  \nco2                 -1.000000     -1.000000    847.000000      0.000000  \nco2A                -1.000000     -1.000000    719.000000      0.000000  \nco2TailpipeAGpm      0.000000      0.000000    719.000000      0.000000  \nco2TailpipeGpm     467.736842    555.437500   1269.571429    167.437500  \ncomb08              19.000000     23.000000    124.000000      6.000000  \ncomb08U              0.000000      0.000000    124.360100      0.000000  \ncombA08              0.000000      0.000000    117.000000      0.000000  \ncombA08U             0.000000      0.000000    116.936400      0.000000  \ncombE                0.000000      0.000000    121.000000      0.000000  \ncombinedCD           0.000000      0.000000      4.800000      0.000000  \ncombinedUF           0.000000      0.000000      0.834000      0.000000  \ncylinders            6.000000      6.000000     16.000000      2.000000  \ndispl                3.000000      4.300000      8.400000      2.100000  \nengId              211.000000   4505.000000  69102.000000   4505.000000  \nfeScore             -1.000000     -1.000000     10.000000      0.000000  \nfuelCost08        1850.000000   2200.000000   5800.000000    700.000000  \nfuelCostA08          0.000000      0.000000   3800.000000      0.000000  \nghgScore            -1.000000     -1.000000     10.000000      0.000000  \nghgScoreA           -1.000000     -1.000000      8.000000      0.000000  \nhighway08           24.000000     27.000000    111.000000      7.000000  \nhighway08U           0.000000      0.000000    111.370000      0.000000  \nhighwayA08           0.000000      0.000000    107.000000      0.000000  \nhighwayA08U          0.000000      0.000000    106.531000      0.000000  \nhighwayCD            0.000000      0.000000      4.060000      0.000000  \nhighwayE             0.000000      0.000000    120.000000      0.000000  \nhighwayUF            0.000000      0.000000      0.813000      0.000000  \nhlv                  0.000000      0.000000     49.000000      0.000000  \nhpv                  0.000000      0.000000    195.000000      0.000000  \nid               18923.000000  28570.500000  38173.000000  19109.000000  \nlv2                  0.000000      0.000000     41.000000      0.000000  \nlv4                  0.000000     13.000000     55.000000     13.000000  \npv2                  0.000000      0.000000    194.000000      0.000000  \npv4                  0.000000     91.000000    192.000000     91.000000  \nrange                0.000000      0.000000    315.000000      0.000000  \nrangeCity            0.000000      0.000000    305.900000      0.000000  \nrangeCityA           0.000000      0.000000     77.504000      0.000000  \nrangeHwy             0.000000      0.000000    346.900000      0.000000  \nrangeHwyA            0.000000      0.000000     65.632000      0.000000  \nUCity               21.000000     25.139300    197.577100      7.139300  \nUCityA               0.000000      0.000000    181.560900      0.000000  \nUHighway            33.000000     38.109600    159.100000     11.009600  \nUHighwayA            0.000000      0.000000    152.187800      0.000000  \nyear              2001.000000   2009.000000   2017.000000     19.000000  \nyouSaveSpend     -2500.000000   -750.000000   4000.000000   3500.000000  \ncharge240b           0.000000      0.000000      7.000000      0.000000  \nphevCity             0.000000      0.000000     97.000000      0.000000  \nphevHwy              0.000000      0.000000     79.000000      0.000000  \nphevComb             0.000000      0.000000     88.000000      0.000000  ",
      "text/html": "<div>\n<style scoped>\n    .dataframe tbody tr th:only-of-type {\n        vertical-align: middle;\n    }\n\n    .dataframe tbody tr th {\n        vertical-align: top;\n    }\n\n    .dataframe thead th {\n        text-align: right;\n    }\n</style>\n<table border=\"1\" class=\"dataframe\">\n  <thead>\n    <tr style=\"text-align: right;\">\n      <th></th>\n      <th>count</th>\n      <th>mean</th>\n      <th>std</th>\n      <th>min</th>\n      <th>25%</th>\n      <th>50%</th>\n      <th>75%</th>\n      <th>max</th>\n      <th>IQR</th>\n    </tr>\n  </thead>\n  <tbody>\n    <tr>\n      <th>barrels08</th>\n      <td>37843.0</td>\n      <td>17.532506</td>\n      <td>4.575950</td>\n      <td>0.06</td>\n      <td>14.33087</td>\n      <td>17.347895</td>\n      <td>20.600625</td>\n      <td>47.087143</td>\n      <td>6.269755</td>\n    </tr>\n    <tr>\n      <th>barrelsA08</th>\n      <td>37843.0</td>\n      <td>0.216169</td>\n      <td>1.141527</td>\n      <td>0.00</td>\n      <td>0.00000</td>\n      <td>0.000000</td>\n      <td>0.000000</td>\n      <td>18.311667</td>\n      <td>0.000000</td>\n    </tr>\n    <tr>\n      <th>charge120</th>\n      <td>37843.0</td>\n      <td>0.000000</td>\n      <td>0.000000</td>\n      <td>0.00</td>\n      <td>0.00000</td>\n      <td>0.000000</td>\n      <td>0.000000</td>\n      <td>0.000000</td>\n      <td>0.000000</td>\n    </tr>\n    <tr>\n      <th>charge240</th>\n      <td>37843.0</td>\n      <td>0.023531</td>\n      <td>0.427647</td>\n      <td>0.00</td>\n      <td>0.00000</td>\n      <td>0.000000</td>\n      <td>0.000000</td>\n      <td>12.000000</td>\n      <td>0.000000</td>\n    </tr>\n    <tr>\n      <th>city08</th>\n      <td>37843.0</td>\n      <td>17.941389</td>\n      <td>6.660360</td>\n      <td>6.00</td>\n      <td>15.00000</td>\n      <td>17.000000</td>\n      <td>20.000000</td>\n      <td>138.000000</td>\n      <td>5.000000</td>\n    </tr>\n    <tr>\n      <th>city08U</th>\n      <td>37843.0</td>\n      <td>4.042737</td>\n      <td>9.645820</td>\n      <td>0.00</td>\n      <td>0.00000</td>\n      <td>0.000000</td>\n      <td>0.000000</td>\n      <td>138.304000</td>\n      <td>0.000000</td>\n    </tr>\n    <tr>\n      <th>cityA08</th>\n      <td>37843.0</td>\n      <td>0.520149</td>\n      <td>3.837874</td>\n      <td>0.00</td>\n      <td>0.00000</td>\n      <td>0.000000</td>\n      <td>0.000000</td>\n      <td>127.000000</td>\n      <td>0.000000</td>\n    </tr>\n    <tr>\n      <th>cityA08U</th>\n      <td>37843.0</td>\n      <td>0.327163</td>\n      <td>3.542596</td>\n      <td>0.00</td>\n      <td>0.00000</td>\n      <td>0.000000</td>\n      <td>0.000000</td>\n      <td>127.093000</td>\n      <td>0.000000</td>\n    </tr>\n    <tr>\n      <th>cityCD</th>\n      <td>37843.0</td>\n      <td>0.000406</td>\n      <td>0.039918</td>\n      <td>0.00</td>\n      <td>0.00000</td>\n      <td>0.000000</td>\n      <td>0.000000</td>\n      <td>5.350000</td>\n      <td>0.000000</td>\n    </tr>\n    <tr>\n      <th>cityE</th>\n      <td>37843.0</td>\n      <td>0.184790</td>\n      <td>2.904558</td>\n      <td>0.00</td>\n      <td>0.00000</td>\n      <td>0.000000</td>\n      <td>0.000000</td>\n      <td>122.000000</td>\n      <td>0.000000</td>\n    </tr>\n    <tr>\n      <th>cityUF</th>\n      <td>37843.0</td>\n      <td>0.000706</td>\n      <td>0.019458</td>\n      <td>0.00</td>\n      <td>0.00000</td>\n      <td>0.000000</td>\n      <td>0.000000</td>\n      <td>0.849000</td>\n      <td>0.000000</td>\n    </tr>\n    <tr>\n      <th>co2</th>\n      <td>37843.0</td>\n      <td>61.503713</td>\n      <td>153.387715</td>\n      <td>-1.00</td>\n      <td>-1.00000</td>\n      <td>-1.000000</td>\n      <td>-1.000000</td>\n      <td>847.000000</td>\n      <td>0.000000</td>\n    </tr>\n    <tr>\n      <th>co2A</th>\n      <td>37843.0</td>\n      <td>5.349919</td>\n      <td>55.539497</td>\n      <td>-1.00</td>\n      <td>-1.00000</td>\n      <td>-1.000000</td>\n      <td>-1.000000</td>\n      <td>719.000000</td>\n      <td>0.000000</td>\n    </tr>\n    <tr>\n      <th>co2TailpipeAGpm</th>\n      <td>37843.0</td>\n      <td>17.771433</td>\n      <td>94.129283</td>\n      <td>0.00</td>\n      <td>0.00000</td>\n      <td>0.000000</td>\n      <td>0.000000</td>\n      <td>719.000000</td>\n      <td>0.000000</td>\n    </tr>\n    <tr>\n      <th>co2TailpipeGpm</th>\n      <td>37843.0</td>\n      <td>473.179736</td>\n      <td>122.188847</td>\n      <td>0.00</td>\n      <td>388.00000</td>\n      <td>467.736842</td>\n      <td>555.437500</td>\n      <td>1269.571429</td>\n      <td>167.437500</td>\n    </tr>\n    <tr>\n      <th>comb08</th>\n      <td>37843.0</td>\n      <td>20.195809</td>\n      <td>6.623444</td>\n      <td>7.00</td>\n      <td>17.00000</td>\n      <td>19.000000</td>\n      <td>23.000000</td>\n      <td>124.000000</td>\n      <td>6.000000</td>\n    </tr>\n    <tr>\n      <th>comb08U</th>\n      <td>37843.0</td>\n      <td>4.549751</td>\n      <td>10.389994</td>\n      <td>0.00</td>\n      <td>0.00000</td>\n      <td>0.000000</td>\n      <td>0.000000</td>\n      <td>124.360100</td>\n      <td>0.000000</td>\n    </tr>\n    <tr>\n      <th>combA08</th>\n      <td>37843.0</td>\n      <td>0.581191</td>\n      <td>3.966255</td>\n      <td>0.00</td>\n      <td>0.00000</td>\n      <td>0.000000</td>\n      <td>0.000000</td>\n      <td>117.000000</td>\n      <td>0.000000</td>\n    </tr>\n    <tr>\n      <th>combA08U</th>\n      <td>37843.0</td>\n      <td>0.359027</td>\n      <td>3.589260</td>\n      <td>0.00</td>\n      <td>0.00000</td>\n      <td>0.000000</td>\n      <td>0.000000</td>\n      <td>116.936400</td>\n      <td>0.000000</td>\n    </tr>\n    <tr>\n      <th>combE</th>\n      <td>37843.0</td>\n      <td>0.190575</td>\n      <td>2.979567</td>\n      <td>0.00</td>\n      <td>0.00000</td>\n      <td>0.000000</td>\n      <td>0.000000</td>\n      <td>121.000000</td>\n      <td>0.000000</td>\n    </tr>\n    <tr>\n      <th>combinedCD</th>\n      <td>37843.0</td>\n      <td>0.000335</td>\n      <td>0.035284</td>\n      <td>0.00</td>\n      <td>0.00000</td>\n      <td>0.000000</td>\n      <td>0.000000</td>\n      <td>4.800000</td>\n      <td>0.000000</td>\n    </tr>\n    <tr>\n      <th>combinedUF</th>\n      <td>37843.0</td>\n      <td>0.000691</td>\n      <td>0.019049</td>\n      <td>0.00</td>\n      <td>0.00000</td>\n      <td>0.000000</td>\n      <td>0.000000</td>\n      <td>0.834000</td>\n      <td>0.000000</td>\n    </tr>\n    <tr>\n      <th>cylinders</th>\n      <td>37720.0</td>\n      <td>5.737990</td>\n      <td>1.751795</td>\n      <td>2.00</td>\n      <td>4.00000</td>\n      <td>6.000000</td>\n      <td>6.000000</td>\n      <td>16.000000</td>\n      <td>2.000000</td>\n    </tr>\n    <tr>\n      <th>displ</th>\n      <td>37723.0</td>\n      <td>3.318180</td>\n      <td>1.361399</td>\n      <td>0.00</td>\n      <td>2.20000</td>\n      <td>3.000000</td>\n      <td>4.300000</td>\n      <td>8.400000</td>\n      <td>2.100000</td>\n    </tr>\n    <tr>\n      <th>engId</th>\n      <td>37843.0</td>\n      <td>8860.308961</td>\n      <td>17829.683477</td>\n      <td>0.00</td>\n      <td>0.00000</td>\n      <td>211.000000</td>\n      <td>4505.000000</td>\n      <td>69102.000000</td>\n      <td>4505.000000</td>\n    </tr>\n    <tr>\n      <th>feScore</th>\n      <td>37843.0</td>\n      <td>-0.035145</td>\n      <td>2.379584</td>\n      <td>-1.00</td>\n      <td>-1.00000</td>\n      <td>-1.000000</td>\n      <td>-1.000000</td>\n      <td>10.000000</td>\n      <td>0.000000</td>\n    </tr>\n    <tr>\n      <th>fuelCost08</th>\n      <td>37843.0</td>\n      <td>1882.060090</td>\n      <td>510.280408</td>\n      <td>550.00</td>\n      <td>1500.00000</td>\n      <td>1850.000000</td>\n      <td>2200.000000</td>\n      <td>5800.000000</td>\n      <td>700.000000</td>\n    </tr>\n    <tr>\n      <th>fuelCostA08</th>\n      <td>37843.0</td>\n      <td>79.070105</td>\n      <td>417.668580</td>\n      <td>0.00</td>\n      <td>0.00000</td>\n      <td>0.000000</td>\n      <td>0.000000</td>\n      <td>3800.000000</td>\n      <td>0.000000</td>\n    </tr>\n    <tr>\n      <th>ghgScore</th>\n      <td>37843.0</td>\n      <td>-0.037206</td>\n      <td>2.374338</td>\n      <td>-1.00</td>\n      <td>-1.00000</td>\n      <td>-1.000000</td>\n      <td>-1.000000</td>\n      <td>10.000000</td>\n      <td>0.000000</td>\n    </tr>\n    <tr>\n      <th>ghgScoreA</th>\n      <td>37843.0</td>\n      <td>-0.929630</td>\n      <td>0.627565</td>\n      <td>-1.00</td>\n      <td>-1.00000</td>\n      <td>-1.000000</td>\n      <td>-1.000000</td>\n      <td>8.000000</td>\n      <td>0.000000</td>\n    </tr>\n    <tr>\n      <th>highway08</th>\n      <td>37843.0</td>\n      <td>24.104881</td>\n      <td>6.963192</td>\n      <td>9.00</td>\n      <td>20.00000</td>\n      <td>24.000000</td>\n      <td>27.000000</td>\n      <td>111.000000</td>\n      <td>7.000000</td>\n    </tr>\n    <tr>\n      <th>highway08U</th>\n      <td>37843.0</td>\n      <td>5.438467</td>\n      <td>11.936327</td>\n      <td>0.00</td>\n      <td>0.00000</td>\n      <td>0.000000</td>\n      <td>0.000000</td>\n      <td>111.370000</td>\n      <td>0.000000</td>\n    </tr>\n    <tr>\n      <th>highwayA08</th>\n      <td>37843.0</td>\n      <td>0.686891</td>\n      <td>4.308934</td>\n      <td>0.00</td>\n      <td>0.00000</td>\n      <td>0.000000</td>\n      <td>0.000000</td>\n      <td>107.000000</td>\n      <td>0.000000</td>\n    </tr>\n    <tr>\n      <th>highwayA08U</th>\n      <td>37843.0</td>\n      <td>0.418698</td>\n      <td>3.808877</td>\n      <td>0.00</td>\n      <td>0.00000</td>\n      <td>0.000000</td>\n      <td>0.000000</td>\n      <td>106.531000</td>\n      <td>0.000000</td>\n    </tr>\n    <tr>\n      <th>highwayCD</th>\n      <td>37843.0</td>\n      <td>0.000233</td>\n      <td>0.029564</td>\n      <td>0.00</td>\n      <td>0.00000</td>\n      <td>0.000000</td>\n      <td>0.000000</td>\n      <td>4.060000</td>\n      <td>0.000000</td>\n    </tr>\n    <tr>\n      <th>highwayE</th>\n      <td>37843.0</td>\n      <td>0.198247</td>\n      <td>3.091862</td>\n      <td>0.00</td>\n      <td>0.00000</td>\n      <td>0.000000</td>\n      <td>0.000000</td>\n      <td>120.000000</td>\n      <td>0.000000</td>\n    </tr>\n    <tr>\n      <th>highwayUF</th>\n      <td>37843.0</td>\n      <td>0.000673</td>\n      <td>0.018583</td>\n      <td>0.00</td>\n      <td>0.00000</td>\n      <td>0.000000</td>\n      <td>0.000000</td>\n      <td>0.813000</td>\n      <td>0.000000</td>\n    </tr>\n    <tr>\n      <th>hlv</th>\n      <td>37843.0</td>\n      <td>2.026214</td>\n      <td>5.947989</td>\n      <td>0.00</td>\n      <td>0.00000</td>\n      <td>0.000000</td>\n      <td>0.000000</td>\n      <td>49.000000</td>\n      <td>0.000000</td>\n    </tr>\n    <tr>\n      <th>hpv</th>\n      <td>37843.0</td>\n      <td>10.424332</td>\n      <td>28.148770</td>\n      <td>0.00</td>\n      <td>0.00000</td>\n      <td>0.000000</td>\n      <td>0.000000</td>\n      <td>195.000000</td>\n      <td>0.000000</td>\n    </tr>\n    <tr>\n      <th>id</th>\n      <td>37843.0</td>\n      <td>19019.286235</td>\n      <td>11034.784855</td>\n      <td>1.00</td>\n      <td>9461.50000</td>\n      <td>18923.000000</td>\n      <td>28570.500000</td>\n      <td>38173.000000</td>\n      <td>19109.000000</td>\n    </tr>\n    <tr>\n      <th>lv2</th>\n      <td>37843.0</td>\n      <td>1.849219</td>\n      <td>4.429983</td>\n      <td>0.00</td>\n      <td>0.00000</td>\n      <td>0.000000</td>\n      <td>0.000000</td>\n      <td>41.000000</td>\n      <td>0.000000</td>\n    </tr>\n    <tr>\n      <th>lv4</th>\n      <td>37843.0</td>\n      <td>6.165658</td>\n      <td>9.743297</td>\n      <td>0.00</td>\n      <td>0.00000</td>\n      <td>0.000000</td>\n      <td>13.000000</td>\n      <td>55.000000</td>\n      <td>13.000000</td>\n    </tr>\n    <tr>\n      <th>pv2</th>\n      <td>37843.0</td>\n      <td>13.696113</td>\n      <td>31.269930</td>\n      <td>0.00</td>\n      <td>0.00000</td>\n      <td>0.000000</td>\n      <td>0.000000</td>\n      <td>194.000000</td>\n      <td>0.000000</td>\n    </tr>\n    <tr>\n      <th>pv4</th>\n      <td>37843.0</td>\n      <td>33.769125</td>\n      <td>45.914462</td>\n      <td>0.00</td>\n      <td>0.00000</td>\n      <td>0.000000</td>\n      <td>91.000000</td>\n      <td>192.000000</td>\n      <td>91.000000</td>\n    </tr>\n    <tr>\n      <th>range</th>\n      <td>37843.0</td>\n      <td>0.392675</td>\n      <td>8.251191</td>\n      <td>0.00</td>\n      <td>0.00000</td>\n      <td>0.000000</td>\n      <td>0.000000</td>\n      <td>315.000000</td>\n      <td>0.000000</td>\n    </tr>\n    <tr>\n      <th>rangeCity</th>\n      <td>37843.0</td>\n      <td>0.352618</td>\n      <td>8.049082</td>\n      <td>0.00</td>\n      <td>0.00000</td>\n      <td>0.000000</td>\n      <td>0.000000</td>\n      <td>305.900000</td>\n      <td>0.000000</td>\n    </tr>\n    <tr>\n      <th>rangeCityA</th>\n      <td>37843.0</td>\n      <td>0.036800</td>\n      <td>1.158270</td>\n      <td>0.00</td>\n      <td>0.00000</td>\n      <td>0.000000</td>\n      <td>0.000000</td>\n      <td>77.504000</td>\n      <td>0.000000</td>\n    </tr>\n    <tr>\n      <th>rangeHwy</th>\n      <td>37843.0</td>\n      <td>0.343399</td>\n      <td>8.171939</td>\n      <td>0.00</td>\n      <td>0.00000</td>\n      <td>0.000000</td>\n      <td>0.000000</td>\n      <td>346.900000</td>\n      <td>0.000000</td>\n    </tr>\n    <tr>\n      <th>rangeHwyA</th>\n      <td>37843.0</td>\n      <td>0.033475</td>\n      <td>1.032642</td>\n      <td>0.00</td>\n      <td>0.00000</td>\n      <td>0.000000</td>\n      <td>0.000000</td>\n      <td>65.632000</td>\n      <td>0.000000</td>\n    </tr>\n    <tr>\n      <th>UCity</th>\n      <td>37843.0</td>\n      <td>22.587229</td>\n      <td>9.350163</td>\n      <td>0.00</td>\n      <td>18.00000</td>\n      <td>21.000000</td>\n      <td>25.139300</td>\n      <td>197.577100</td>\n      <td>7.139300</td>\n    </tr>\n    <tr>\n      <th>UCityA</th>\n      <td>37843.0</td>\n      <td>0.652380</td>\n      <td>5.284547</td>\n      <td>0.00</td>\n      <td>0.00000</td>\n      <td>0.000000</td>\n      <td>0.000000</td>\n      <td>181.560900</td>\n      <td>0.000000</td>\n    </tr>\n    <tr>\n      <th>UHighway</th>\n      <td>37843.0</td>\n      <td>33.619221</td>\n      <td>10.048326</td>\n      <td>0.00</td>\n      <td>27.10000</td>\n      <td>33.000000</td>\n      <td>38.109600</td>\n      <td>159.100000</td>\n      <td>11.009600</td>\n    </tr>\n    <tr>\n      <th>UHighwayA</th>\n      <td>37843.0</td>\n      <td>0.933845</td>\n      <td>6.059456</td>\n      <td>0.00</td>\n      <td>0.00000</td>\n      <td>0.000000</td>\n      <td>0.000000</td>\n      <td>152.187800</td>\n      <td>0.000000</td>\n    </tr>\n    <tr>\n      <th>year</th>\n      <td>37843.0</td>\n      <td>2000.064398</td>\n      <td>10.390588</td>\n      <td>1984.00</td>\n      <td>1990.00000</td>\n      <td>2001.000000</td>\n      <td>2009.000000</td>\n      <td>2017.000000</td>\n      <td>19.000000</td>\n    </tr>\n    <tr>\n      <th>youSaveSpend</th>\n      <td>37843.0</td>\n      <td>-2658.999022</td>\n      <td>2553.098329</td>\n      <td>-22250.00</td>\n      <td>-4250.00000</td>\n      <td>-2500.000000</td>\n      <td>-750.000000</td>\n      <td>4000.000000</td>\n      <td>3500.000000</td>\n    </tr>\n    <tr>\n      <th>charge240b</th>\n      <td>37843.0</td>\n      <td>0.004360</td>\n      <td>0.142776</td>\n      <td>0.00</td>\n      <td>0.00000</td>\n      <td>0.000000</td>\n      <td>0.000000</td>\n      <td>7.000000</td>\n      <td>0.000000</td>\n    </tr>\n    <tr>\n      <th>phevCity</th>\n      <td>37843.0</td>\n      <td>0.069313</td>\n      <td>1.966806</td>\n      <td>0.00</td>\n      <td>0.00000</td>\n      <td>0.000000</td>\n      <td>0.000000</td>\n      <td>97.000000</td>\n      <td>0.000000</td>\n    </tr>\n    <tr>\n      <th>phevHwy</th>\n      <td>37843.0</td>\n      <td>0.068203</td>\n      <td>1.871986</td>\n      <td>0.00</td>\n      <td>0.00000</td>\n      <td>0.000000</td>\n      <td>0.000000</td>\n      <td>79.000000</td>\n      <td>0.000000</td>\n    </tr>\n    <tr>\n      <th>phevComb</th>\n      <td>37843.0</td>\n      <td>0.068573</td>\n      <td>1.913647</td>\n      <td>0.00</td>\n      <td>0.00000</td>\n      <td>0.000000</td>\n      <td>0.000000</td>\n      <td>88.000000</td>\n      <td>0.000000</td>\n    </tr>\n  </tbody>\n</table>\n</div>"
     },
     "execution_count": 22,
     "metadata": {},
     "output_type": "execute_result"
    }
   ],
   "source": [
    "#Run this code\n",
    "stats = data.describe().transpose()\n",
    "stats['IQR'] = stats['75%'] - stats['25%']\n",
    "stats"
   ]
  },
  {
   "cell_type": "markdown",
   "metadata": {},
   "source": [
    "We will then create an empty data frame called outliers with the same columns as our data set. Finally, we will loop through each column in the data calculating the lower and upper bounds, retrieving records where the value for that column falls outside the bounds we established, and appending those results to our outlier data frame."
   ]
  },
  {
   "cell_type": "code",
   "execution_count": 23,
   "metadata": {},
   "outputs": [
    {
     "data": {
      "text/plain": "     barrels08  barrelsA08  charge120  charge240 city08  city08U cityA08  \\\n47      32.961         0.0        0.0        0.0      9      0.0       0   \n58      32.961         0.0        0.0        0.0     10      0.0       0   \n69      32.961         0.0        0.0        0.0     10      0.0       0   \n80      32.961         0.0        0.0        0.0      9      0.0       0   \n275     32.961         0.0        0.0        0.0      9      0.0       0   \n\n     cityA08U  cityCD  cityE  cityUF co2 co2A  co2TailpipeAGpm  \\\n47        0.0     0.0    0.0     0.0  -1   -1              0.0   \n58        0.0     0.0    0.0     0.0  -1   -1              0.0   \n69        0.0     0.0    0.0     0.0  -1   -1              0.0   \n80        0.0     0.0    0.0     0.0  -1   -1              0.0   \n275       0.0     0.0    0.0     0.0  -1   -1              0.0   \n\n     co2TailpipeGpm comb08  comb08U combA08  combA08U  combE  combinedCD  \\\n47            888.7     10      0.0       0       0.0    0.0         0.0   \n58            888.7     10      0.0       0       0.0    0.0         0.0   \n69            888.7     10      0.0       0       0.0    0.0         0.0   \n80            888.7     10      0.0       0       0.0    0.0         0.0   \n275           888.7     10      0.0       0       0.0    0.0         0.0   \n\n     combinedUF  cylinders  displ             drive engId feScore fuelCost08  \\\n47          0.0        8.0    5.9  Rear-Wheel Drive  2890      -1       3350   \n58          0.0        8.0    5.2  Rear-Wheel Drive  2854      -1       3350   \n69          0.0        8.0    5.2  Rear-Wheel Drive  2850      -1       3350   \n80          0.0        8.0    5.9  Rear-Wheel Drive  2890      -1       3350   \n275         0.0        8.0    7.4  Rear-Wheel Drive  4880      -1       3350   \n\n    fuelCostA08 fuelType         fuelType1 ghgScore ghgScoreA highway08  \\\n47            0  Regular  Regular Gasoline       -1        -1        11   \n58            0  Regular  Regular Gasoline       -1        -1        11   \n69            0  Regular  Regular Gasoline       -1        -1        11   \n80            0  Regular  Regular Gasoline       -1        -1        10   \n275           0  Regular  Regular Gasoline       -1        -1        12   \n\n     highway08U highwayA08  highwayA08U  highwayCD  highwayE  highwayUF hlv  \\\n47          0.0          0          0.0        0.0       0.0        0.0   0   \n58          0.0          0          0.0        0.0       0.0        0.0   0   \n69          0.0          0          0.0        0.0       0.0        0.0   0   \n80          0.0          0          0.0        0.0       0.0        0.0   0   \n275         0.0          0          0.0        0.0       0.0        0.0   0   \n\n    hpv     id lv2 lv4       make                model mpgData phevBlended  \\\n47    0   1004   0   0      Dodge  B150/B250 Wagon 2WD       N       False   \n58    0   1005   0   0      Dodge       B350 Wagon 2WD       N       False   \n69    0   1006   0   0      Dodge       B350 Wagon 2WD       N       False   \n80    0   1007   0   0      Dodge       B350 Wagon 2WD       N       False   \n275   0  10245   0   0  Chevrolet     C1500 Pickup 2WD       N       False   \n\n    pv2 pv4 range  rangeCity  rangeCityA  rangeHwy  rangeHwyA  \\\n47    0   0     0        0.0         0.0       0.0        0.0   \n58    0   0     0        0.0         0.0       0.0        0.0   \n69    0   0     0        0.0         0.0       0.0        0.0   \n80    0   0     0        0.0         0.0       0.0        0.0   \n275   0   0     0        0.0         0.0       0.0        0.0   \n\n               trany  UCity  UCityA  UHighway  UHighwayA  \\\n47   Automatic 3-spd   11.0     0.0      15.0        0.0   \n58   Automatic 3-spd   12.0     0.0      15.0        0.0   \n69   Automatic 3-spd   12.0     0.0      15.0        0.0   \n80   Automatic 3-spd   11.0     0.0      14.0        0.0   \n275  Automatic 4-spd   11.0     0.0      16.0        0.0   \n\n                     VClass  year youSaveSpend  charge240b  \\\n47                     Vans  1985       -10000         0.0   \n58                     Vans  1985       -10000         0.0   \n69                     Vans  1985       -10000         0.0   \n80                     Vans  1985       -10000         0.0   \n275  Standard Pickup Trucks  1993       -10000         0.0   \n\n                        createdOn                    modifiedOn phevCity  \\\n47   Tue Jan 01 00:00:00 EST 2013  Tue Jan 01 00:00:00 EST 2013        0   \n58   Tue Jan 01 00:00:00 EST 2013  Tue Jan 01 00:00:00 EST 2013        0   \n69   Tue Jan 01 00:00:00 EST 2013  Tue Jan 01 00:00:00 EST 2013        0   \n80   Tue Jan 01 00:00:00 EST 2013  Tue Jan 01 00:00:00 EST 2013        0   \n275  Tue Jan 01 00:00:00 EST 2013  Tue Jan 01 00:00:00 EST 2013        0   \n\n    phevHwy phevComb    Outlier  \n47        0        0  barrels08  \n58        0        0  barrels08  \n69        0        0  barrels08  \n80        0        0  barrels08  \n275       0        0  barrels08  ",
      "text/html": "<div>\n<style scoped>\n    .dataframe tbody tr th:only-of-type {\n        vertical-align: middle;\n    }\n\n    .dataframe tbody tr th {\n        vertical-align: top;\n    }\n\n    .dataframe thead th {\n        text-align: right;\n    }\n</style>\n<table border=\"1\" class=\"dataframe\">\n  <thead>\n    <tr style=\"text-align: right;\">\n      <th></th>\n      <th>barrels08</th>\n      <th>barrelsA08</th>\n      <th>charge120</th>\n      <th>charge240</th>\n      <th>city08</th>\n      <th>city08U</th>\n      <th>cityA08</th>\n      <th>cityA08U</th>\n      <th>cityCD</th>\n      <th>cityE</th>\n      <th>cityUF</th>\n      <th>co2</th>\n      <th>co2A</th>\n      <th>co2TailpipeAGpm</th>\n      <th>co2TailpipeGpm</th>\n      <th>comb08</th>\n      <th>comb08U</th>\n      <th>combA08</th>\n      <th>combA08U</th>\n      <th>combE</th>\n      <th>combinedCD</th>\n      <th>combinedUF</th>\n      <th>cylinders</th>\n      <th>displ</th>\n      <th>drive</th>\n      <th>engId</th>\n      <th>feScore</th>\n      <th>fuelCost08</th>\n      <th>fuelCostA08</th>\n      <th>fuelType</th>\n      <th>fuelType1</th>\n      <th>ghgScore</th>\n      <th>ghgScoreA</th>\n      <th>highway08</th>\n      <th>highway08U</th>\n      <th>highwayA08</th>\n      <th>highwayA08U</th>\n      <th>highwayCD</th>\n      <th>highwayE</th>\n      <th>highwayUF</th>\n      <th>hlv</th>\n      <th>hpv</th>\n      <th>id</th>\n      <th>lv2</th>\n      <th>lv4</th>\n      <th>make</th>\n      <th>model</th>\n      <th>mpgData</th>\n      <th>phevBlended</th>\n      <th>pv2</th>\n      <th>pv4</th>\n      <th>range</th>\n      <th>rangeCity</th>\n      <th>rangeCityA</th>\n      <th>rangeHwy</th>\n      <th>rangeHwyA</th>\n      <th>trany</th>\n      <th>UCity</th>\n      <th>UCityA</th>\n      <th>UHighway</th>\n      <th>UHighwayA</th>\n      <th>VClass</th>\n      <th>year</th>\n      <th>youSaveSpend</th>\n      <th>charge240b</th>\n      <th>createdOn</th>\n      <th>modifiedOn</th>\n      <th>phevCity</th>\n      <th>phevHwy</th>\n      <th>phevComb</th>\n      <th>Outlier</th>\n    </tr>\n  </thead>\n  <tbody>\n    <tr>\n      <th>47</th>\n      <td>32.961</td>\n      <td>0.0</td>\n      <td>0.0</td>\n      <td>0.0</td>\n      <td>9</td>\n      <td>0.0</td>\n      <td>0</td>\n      <td>0.0</td>\n      <td>0.0</td>\n      <td>0.0</td>\n      <td>0.0</td>\n      <td>-1</td>\n      <td>-1</td>\n      <td>0.0</td>\n      <td>888.7</td>\n      <td>10</td>\n      <td>0.0</td>\n      <td>0</td>\n      <td>0.0</td>\n      <td>0.0</td>\n      <td>0.0</td>\n      <td>0.0</td>\n      <td>8.0</td>\n      <td>5.9</td>\n      <td>Rear-Wheel Drive</td>\n      <td>2890</td>\n      <td>-1</td>\n      <td>3350</td>\n      <td>0</td>\n      <td>Regular</td>\n      <td>Regular Gasoline</td>\n      <td>-1</td>\n      <td>-1</td>\n      <td>11</td>\n      <td>0.0</td>\n      <td>0</td>\n      <td>0.0</td>\n      <td>0.0</td>\n      <td>0.0</td>\n      <td>0.0</td>\n      <td>0</td>\n      <td>0</td>\n      <td>1004</td>\n      <td>0</td>\n      <td>0</td>\n      <td>Dodge</td>\n      <td>B150/B250 Wagon 2WD</td>\n      <td>N</td>\n      <td>False</td>\n      <td>0</td>\n      <td>0</td>\n      <td>0</td>\n      <td>0.0</td>\n      <td>0.0</td>\n      <td>0.0</td>\n      <td>0.0</td>\n      <td>Automatic 3-spd</td>\n      <td>11.0</td>\n      <td>0.0</td>\n      <td>15.0</td>\n      <td>0.0</td>\n      <td>Vans</td>\n      <td>1985</td>\n      <td>-10000</td>\n      <td>0.0</td>\n      <td>Tue Jan 01 00:00:00 EST 2013</td>\n      <td>Tue Jan 01 00:00:00 EST 2013</td>\n      <td>0</td>\n      <td>0</td>\n      <td>0</td>\n      <td>barrels08</td>\n    </tr>\n    <tr>\n      <th>58</th>\n      <td>32.961</td>\n      <td>0.0</td>\n      <td>0.0</td>\n      <td>0.0</td>\n      <td>10</td>\n      <td>0.0</td>\n      <td>0</td>\n      <td>0.0</td>\n      <td>0.0</td>\n      <td>0.0</td>\n      <td>0.0</td>\n      <td>-1</td>\n      <td>-1</td>\n      <td>0.0</td>\n      <td>888.7</td>\n      <td>10</td>\n      <td>0.0</td>\n      <td>0</td>\n      <td>0.0</td>\n      <td>0.0</td>\n      <td>0.0</td>\n      <td>0.0</td>\n      <td>8.0</td>\n      <td>5.2</td>\n      <td>Rear-Wheel Drive</td>\n      <td>2854</td>\n      <td>-1</td>\n      <td>3350</td>\n      <td>0</td>\n      <td>Regular</td>\n      <td>Regular Gasoline</td>\n      <td>-1</td>\n      <td>-1</td>\n      <td>11</td>\n      <td>0.0</td>\n      <td>0</td>\n      <td>0.0</td>\n      <td>0.0</td>\n      <td>0.0</td>\n      <td>0.0</td>\n      <td>0</td>\n      <td>0</td>\n      <td>1005</td>\n      <td>0</td>\n      <td>0</td>\n      <td>Dodge</td>\n      <td>B350 Wagon 2WD</td>\n      <td>N</td>\n      <td>False</td>\n      <td>0</td>\n      <td>0</td>\n      <td>0</td>\n      <td>0.0</td>\n      <td>0.0</td>\n      <td>0.0</td>\n      <td>0.0</td>\n      <td>Automatic 3-spd</td>\n      <td>12.0</td>\n      <td>0.0</td>\n      <td>15.0</td>\n      <td>0.0</td>\n      <td>Vans</td>\n      <td>1985</td>\n      <td>-10000</td>\n      <td>0.0</td>\n      <td>Tue Jan 01 00:00:00 EST 2013</td>\n      <td>Tue Jan 01 00:00:00 EST 2013</td>\n      <td>0</td>\n      <td>0</td>\n      <td>0</td>\n      <td>barrels08</td>\n    </tr>\n    <tr>\n      <th>69</th>\n      <td>32.961</td>\n      <td>0.0</td>\n      <td>0.0</td>\n      <td>0.0</td>\n      <td>10</td>\n      <td>0.0</td>\n      <td>0</td>\n      <td>0.0</td>\n      <td>0.0</td>\n      <td>0.0</td>\n      <td>0.0</td>\n      <td>-1</td>\n      <td>-1</td>\n      <td>0.0</td>\n      <td>888.7</td>\n      <td>10</td>\n      <td>0.0</td>\n      <td>0</td>\n      <td>0.0</td>\n      <td>0.0</td>\n      <td>0.0</td>\n      <td>0.0</td>\n      <td>8.0</td>\n      <td>5.2</td>\n      <td>Rear-Wheel Drive</td>\n      <td>2850</td>\n      <td>-1</td>\n      <td>3350</td>\n      <td>0</td>\n      <td>Regular</td>\n      <td>Regular Gasoline</td>\n      <td>-1</td>\n      <td>-1</td>\n      <td>11</td>\n      <td>0.0</td>\n      <td>0</td>\n      <td>0.0</td>\n      <td>0.0</td>\n      <td>0.0</td>\n      <td>0.0</td>\n      <td>0</td>\n      <td>0</td>\n      <td>1006</td>\n      <td>0</td>\n      <td>0</td>\n      <td>Dodge</td>\n      <td>B350 Wagon 2WD</td>\n      <td>N</td>\n      <td>False</td>\n      <td>0</td>\n      <td>0</td>\n      <td>0</td>\n      <td>0.0</td>\n      <td>0.0</td>\n      <td>0.0</td>\n      <td>0.0</td>\n      <td>Automatic 3-spd</td>\n      <td>12.0</td>\n      <td>0.0</td>\n      <td>15.0</td>\n      <td>0.0</td>\n      <td>Vans</td>\n      <td>1985</td>\n      <td>-10000</td>\n      <td>0.0</td>\n      <td>Tue Jan 01 00:00:00 EST 2013</td>\n      <td>Tue Jan 01 00:00:00 EST 2013</td>\n      <td>0</td>\n      <td>0</td>\n      <td>0</td>\n      <td>barrels08</td>\n    </tr>\n    <tr>\n      <th>80</th>\n      <td>32.961</td>\n      <td>0.0</td>\n      <td>0.0</td>\n      <td>0.0</td>\n      <td>9</td>\n      <td>0.0</td>\n      <td>0</td>\n      <td>0.0</td>\n      <td>0.0</td>\n      <td>0.0</td>\n      <td>0.0</td>\n      <td>-1</td>\n      <td>-1</td>\n      <td>0.0</td>\n      <td>888.7</td>\n      <td>10</td>\n      <td>0.0</td>\n      <td>0</td>\n      <td>0.0</td>\n      <td>0.0</td>\n      <td>0.0</td>\n      <td>0.0</td>\n      <td>8.0</td>\n      <td>5.9</td>\n      <td>Rear-Wheel Drive</td>\n      <td>2890</td>\n      <td>-1</td>\n      <td>3350</td>\n      <td>0</td>\n      <td>Regular</td>\n      <td>Regular Gasoline</td>\n      <td>-1</td>\n      <td>-1</td>\n      <td>10</td>\n      <td>0.0</td>\n      <td>0</td>\n      <td>0.0</td>\n      <td>0.0</td>\n      <td>0.0</td>\n      <td>0.0</td>\n      <td>0</td>\n      <td>0</td>\n      <td>1007</td>\n      <td>0</td>\n      <td>0</td>\n      <td>Dodge</td>\n      <td>B350 Wagon 2WD</td>\n      <td>N</td>\n      <td>False</td>\n      <td>0</td>\n      <td>0</td>\n      <td>0</td>\n      <td>0.0</td>\n      <td>0.0</td>\n      <td>0.0</td>\n      <td>0.0</td>\n      <td>Automatic 3-spd</td>\n      <td>11.0</td>\n      <td>0.0</td>\n      <td>14.0</td>\n      <td>0.0</td>\n      <td>Vans</td>\n      <td>1985</td>\n      <td>-10000</td>\n      <td>0.0</td>\n      <td>Tue Jan 01 00:00:00 EST 2013</td>\n      <td>Tue Jan 01 00:00:00 EST 2013</td>\n      <td>0</td>\n      <td>0</td>\n      <td>0</td>\n      <td>barrels08</td>\n    </tr>\n    <tr>\n      <th>275</th>\n      <td>32.961</td>\n      <td>0.0</td>\n      <td>0.0</td>\n      <td>0.0</td>\n      <td>9</td>\n      <td>0.0</td>\n      <td>0</td>\n      <td>0.0</td>\n      <td>0.0</td>\n      <td>0.0</td>\n      <td>0.0</td>\n      <td>-1</td>\n      <td>-1</td>\n      <td>0.0</td>\n      <td>888.7</td>\n      <td>10</td>\n      <td>0.0</td>\n      <td>0</td>\n      <td>0.0</td>\n      <td>0.0</td>\n      <td>0.0</td>\n      <td>0.0</td>\n      <td>8.0</td>\n      <td>7.4</td>\n      <td>Rear-Wheel Drive</td>\n      <td>4880</td>\n      <td>-1</td>\n      <td>3350</td>\n      <td>0</td>\n      <td>Regular</td>\n      <td>Regular Gasoline</td>\n      <td>-1</td>\n      <td>-1</td>\n      <td>12</td>\n      <td>0.0</td>\n      <td>0</td>\n      <td>0.0</td>\n      <td>0.0</td>\n      <td>0.0</td>\n      <td>0.0</td>\n      <td>0</td>\n      <td>0</td>\n      <td>10245</td>\n      <td>0</td>\n      <td>0</td>\n      <td>Chevrolet</td>\n      <td>C1500 Pickup 2WD</td>\n      <td>N</td>\n      <td>False</td>\n      <td>0</td>\n      <td>0</td>\n      <td>0</td>\n      <td>0.0</td>\n      <td>0.0</td>\n      <td>0.0</td>\n      <td>0.0</td>\n      <td>Automatic 4-spd</td>\n      <td>11.0</td>\n      <td>0.0</td>\n      <td>16.0</td>\n      <td>0.0</td>\n      <td>Standard Pickup Trucks</td>\n      <td>1993</td>\n      <td>-10000</td>\n      <td>0.0</td>\n      <td>Tue Jan 01 00:00:00 EST 2013</td>\n      <td>Tue Jan 01 00:00:00 EST 2013</td>\n      <td>0</td>\n      <td>0</td>\n      <td>0</td>\n      <td>barrels08</td>\n    </tr>\n  </tbody>\n</table>\n</div>"
     },
     "execution_count": 23,
     "metadata": {},
     "output_type": "execute_result"
    }
   ],
   "source": [
    "#Run this code\n",
    "outliers = pd.DataFrame(columns=data.columns)\n",
    "\n",
    "for col in stats.index:\n",
    "    iqr = stats.at[col,'IQR']\n",
    "    cutoff = iqr * 1.5\n",
    "    lower = stats.at[col,'25%'] - cutoff\n",
    "    upper = stats.at[col,'75%'] + cutoff\n",
    "    results = data[(data[col] < lower) | \n",
    "                   (data[col] > upper)].copy()\n",
    "    results['Outlier'] = col\n",
    "    outliers = outliers.append(results)\n",
    "    \n",
    "\n",
    "outliers.head()"
   ]
  },
  {
   "cell_type": "markdown",
   "metadata": {},
   "source": [
    "Our outliers data frame should now be populated with records that you can investigate further and determine whether they should be kept in the data or dropped. The Outlier column we added before appending the results for the column to the outliers data frame will let you know what column in each record contained the outlier. If you find that this method is returning too many results, you can be more stringent with your cutoff criteria (e.g. increasing the constant by which you multiply the IQR to 3 instead of 1.5)."
   ]
  },
  {
   "cell_type": "markdown",
   "metadata": {},
   "source": [
    "# Data Type Correction\n",
    "\n",
    "One common problem that is often overlooked is incorrect data types. This typically occurs when there is a numeric variable that should actually be represented as a categorical variable. "
   ]
  },
  {
   "cell_type": "markdown",
   "metadata": {},
   "source": [
    "## Check the data type of each column"
   ]
  },
  {
   "cell_type": "code",
   "execution_count": 24,
   "metadata": {},
   "outputs": [],
   "source": [
    "##your code\n"
   ]
  },
  {
   "cell_type": "markdown",
   "metadata": {},
   "source": [
    "## Cleaning years\n",
    "Do you think column year is a continuous variable? Would you change it onto another dtype?"
   ]
  },
  {
   "cell_type": "code",
   "execution_count": 25,
   "metadata": {},
   "outputs": [],
   "source": [
    "#your code\n"
   ]
  },
  {
   "cell_type": "markdown",
   "metadata": {},
   "source": [
    "You can apply this technique to any column whose data type you would like to change."
   ]
  },
  {
   "cell_type": "code",
   "execution_count": 26,
   "metadata": {},
   "outputs": [],
   "source": [
    "#your code\n"
   ]
  },
  {
   "cell_type": "markdown",
   "metadata": {},
   "source": [
    "# Cleaning Text and Removing Special Characters\n",
    "\n",
    "The presence of special characters in our fields has the potential to make analyzing our data challenging. Imagine not being able to perform calculations on a numeric field because it was currently represented as an object data type due to the fact that it had a dollar sign ($) in it. \n",
    "\n",
    "Similarly, imagine having a categorical field where you could not group records that belong in the same group together because in one field you are grouping by, terms that refer to the same thing are sometimes hyphenated. In cases like this, it is necessary to remove special characters so that we can properly analyze the data.\n",
    "\n",
    "In our vehicles data set, the trany field has several special characters (parentheses, hyphens, etc.). Check the unique values and clean the column.\n",
    "\n",
    "hint: check the `replace` function"
   ]
  },
  {
   "cell_type": "code",
   "execution_count": 27,
   "metadata": {},
   "outputs": [],
   "source": [
    "#your code\n"
   ]
  },
  {
   "cell_type": "code",
   "execution_count": 28,
   "metadata": {},
   "outputs": [],
   "source": [
    "#your code"
   ]
  },
  {
   "cell_type": "code",
   "execution_count": 29,
   "metadata": {},
   "outputs": [],
   "source": [
    "#your code"
   ]
  },
  {
   "cell_type": "markdown",
   "metadata": {},
   "source": [
    "As you can see, we now have no special characters, consistent naming, and proper spacing. We started out with 47 unique values in this column, and using this technique, we were able to reduce the number of unique values to 39.\n",
    "\n",
    "\n",
    "\n",
    "# Finding and Removing Duplicates\n",
    "\n",
    "The final topic we are going to cover in this lab is how to identify and remove duplicate rows (or rows that refer to the same entity) in our data. When trying to identify duplicates, we will use the columns (or attributes) of the data to help us determine what entities are similar enough to be considered the same entity. We want to start with all the columns we currently have available to us and work our way toward a lesser number of attributes in an intuitive fashion. In this process, the act of dropping duplicated records is easy, but identifying the correct attributes for comparison and which records to drop is sometimes quite challenging.\n",
    "\n",
    "The first thing we will do is attempt to drop any duplicate records, considering all the columns we currently have in the data set. \n",
    "\n",
    "Pandas provides us with the ability to do that via the `drop_duplicates method`."
   ]
  },
  {
   "cell_type": "markdown",
   "metadata": {},
   "source": [
    "## Drop duplicate rows that are completely equal"
   ]
  },
  {
   "cell_type": "code",
   "execution_count": 30,
   "metadata": {},
   "outputs": [],
   "source": [
    "#your code\n"
   ]
  },
  {
   "cell_type": "markdown",
   "metadata": {},
   "source": [
    "This tells us that there were no records that matched exactly across all columns. However, if we reduce the number of columns in our data that we are interested in, we can try again and have a higher likelihood of finding duplicate records. "
   ]
  },
  {
   "cell_type": "markdown",
   "metadata": {},
   "source": [
    "## Select a subset of columns, remove all other columns, and then use the drop_duplicates method to drop any duplicate records based on the remaining columns."
   ]
  },
  {
   "cell_type": "code",
   "execution_count": 31,
   "metadata": {},
   "outputs": [],
   "source": [
    "#your code\n",
    "\n",
    "#print('Number of duplicate records dropped: ', str(before - after))"
   ]
  },
  {
   "cell_type": "markdown",
   "metadata": {},
   "source": [
    "With the reduced number of columns, we were able to identify and drop 885 duplicate records."
   ]
  },
  {
   "cell_type": "markdown",
   "metadata": {},
   "source": [
    "# Export clean dataset\n",
    "Export your bright new clean dataset into a csv file and store it in data folder."
   ]
  },
  {
   "cell_type": "code",
   "execution_count": 32,
   "metadata": {},
   "outputs": [],
   "source": [
    "#your code"
   ]
  }
 ],
 "metadata": {
  "kernelspec": {
   "display_name": "Python 3",
   "language": "python",
   "name": "python3"
  },
  "language_info": {
   "codemirror_mode": {
    "name": "ipython",
    "version": 3
   },
   "file_extension": ".py",
   "mimetype": "text/x-python",
   "name": "python",
   "nbconvert_exporter": "python",
   "pygments_lexer": "ipython3",
   "version": "3.8.5"
  },
  "toc": {
   "base_numbering": 1,
   "nav_menu": {},
   "number_sections": true,
   "sideBar": true,
   "skip_h1_title": false,
   "title_cell": "Table of Contents",
   "title_sidebar": "Contents",
   "toc_cell": true,
   "toc_position": {},
   "toc_section_display": true,
   "toc_window_display": false
  },
  "varInspector": {
   "cols": {
    "lenName": 16,
    "lenType": 16,
    "lenVar": 40
   },
   "kernels_config": {
    "python": {
     "delete_cmd_postfix": "",
     "delete_cmd_prefix": "del ",
     "library": "var_list.py",
     "varRefreshCmd": "print(var_dic_list())"
    },
    "r": {
     "delete_cmd_postfix": ") ",
     "delete_cmd_prefix": "rm(",
     "library": "var_list.r",
     "varRefreshCmd": "cat(var_dic_list()) "
    }
   },
   "types_to_exclude": [
    "module",
    "function",
    "builtin_function_or_method",
    "instance",
    "_Feature"
   ],
   "window_display": false
  }
 },
 "nbformat": 4,
 "nbformat_minor": 2
}